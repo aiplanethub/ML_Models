{
 "cells": [
  {
   "cell_type": "markdown",
   "metadata": {},
   "source": [
    "# Artificial Neural Network for Beginners"
   ]
  },
  {
   "cell_type": "markdown",
   "metadata": {},
   "source": [
    "In this notebook, we'll go through the code to create your very first neural network to <span class=\"mark\">predict whether the house price is below or above median value</span>. We will go through the following in this notebook:\n",
    "\n",
    "- Exploring and Processing the Data\n",
    "- Building and Training our Neural Network\n",
    "- Visualizing Loss and Accuracy\n",
    "- Adding Regularization to our Neural Network\n",
    "\n",
    "The code is annotated throughout the notebook and you simply need to download the dataset [here](https://drive.google.com/file/d/1GfvKA0qznNVknghV4botnNxyH-KvODOC/view), put the dataset in the same folder as this notebook and run the code cells below. Note that the results you get might differ slightly as there is a degree of randomness in the way we split our dataset as well as the initialization of our neural network."
   ]
  },
  {
   "cell_type": "markdown",
   "metadata": {},
   "source": [
    "# Exploring and Processing the Data"
   ]
  },
  {
   "cell_type": "markdown",
   "metadata": {},
   "source": [
    "We first have to read in the CSV file that we've been given. We'll use a package called pandas for that:"
   ]
  },
  {
   "cell_type": "code",
   "execution_count": 3,
   "metadata": {
    "ExecuteTime": {
     "end_time": "2020-06-16T16:09:47.516686Z",
     "start_time": "2020-06-16T16:09:47.111029Z"
    }
   },
   "outputs": [],
   "source": [
    "import pandas as pd"
   ]
  },
  {
   "cell_type": "code",
   "execution_count": 4,
   "metadata": {
    "ExecuteTime": {
     "end_time": "2020-06-16T16:09:48.029425Z",
     "start_time": "2020-06-16T16:09:48.022364Z"
    }
   },
   "outputs": [],
   "source": [
    "df = pd.read_csv('housepricedata.csv')"
   ]
  },
  {
   "cell_type": "code",
   "execution_count": 5,
   "metadata": {
    "ExecuteTime": {
     "end_time": "2020-06-16T16:09:49.092819Z",
     "start_time": "2020-06-16T16:09:49.078441Z"
    },
    "scrolled": true
   },
   "outputs": [
    {
     "data": {
      "text/html": [
       "<div>\n",
       "<style scoped>\n",
       "    .dataframe tbody tr th:only-of-type {\n",
       "        vertical-align: middle;\n",
       "    }\n",
       "\n",
       "    .dataframe tbody tr th {\n",
       "        vertical-align: top;\n",
       "    }\n",
       "\n",
       "    .dataframe thead th {\n",
       "        text-align: right;\n",
       "    }\n",
       "</style>\n",
       "<table border=\"1\" class=\"dataframe\">\n",
       "  <thead>\n",
       "    <tr style=\"text-align: right;\">\n",
       "      <th></th>\n",
       "      <th>LotArea</th>\n",
       "      <th>OverallQual</th>\n",
       "      <th>OverallCond</th>\n",
       "      <th>TotalBsmtSF</th>\n",
       "      <th>FullBath</th>\n",
       "      <th>HalfBath</th>\n",
       "      <th>BedroomAbvGr</th>\n",
       "      <th>TotRmsAbvGrd</th>\n",
       "      <th>Fireplaces</th>\n",
       "      <th>GarageArea</th>\n",
       "      <th>AboveMedianPrice</th>\n",
       "    </tr>\n",
       "  </thead>\n",
       "  <tbody>\n",
       "    <tr>\n",
       "      <th>0</th>\n",
       "      <td>8450</td>\n",
       "      <td>7</td>\n",
       "      <td>5</td>\n",
       "      <td>856</td>\n",
       "      <td>2</td>\n",
       "      <td>1</td>\n",
       "      <td>3</td>\n",
       "      <td>8</td>\n",
       "      <td>0</td>\n",
       "      <td>548</td>\n",
       "      <td>1</td>\n",
       "    </tr>\n",
       "    <tr>\n",
       "      <th>1</th>\n",
       "      <td>9600</td>\n",
       "      <td>6</td>\n",
       "      <td>8</td>\n",
       "      <td>1262</td>\n",
       "      <td>2</td>\n",
       "      <td>0</td>\n",
       "      <td>3</td>\n",
       "      <td>6</td>\n",
       "      <td>1</td>\n",
       "      <td>460</td>\n",
       "      <td>1</td>\n",
       "    </tr>\n",
       "    <tr>\n",
       "      <th>2</th>\n",
       "      <td>11250</td>\n",
       "      <td>7</td>\n",
       "      <td>5</td>\n",
       "      <td>920</td>\n",
       "      <td>2</td>\n",
       "      <td>1</td>\n",
       "      <td>3</td>\n",
       "      <td>6</td>\n",
       "      <td>1</td>\n",
       "      <td>608</td>\n",
       "      <td>1</td>\n",
       "    </tr>\n",
       "    <tr>\n",
       "      <th>3</th>\n",
       "      <td>9550</td>\n",
       "      <td>7</td>\n",
       "      <td>5</td>\n",
       "      <td>756</td>\n",
       "      <td>1</td>\n",
       "      <td>0</td>\n",
       "      <td>3</td>\n",
       "      <td>7</td>\n",
       "      <td>1</td>\n",
       "      <td>642</td>\n",
       "      <td>0</td>\n",
       "    </tr>\n",
       "    <tr>\n",
       "      <th>4</th>\n",
       "      <td>14260</td>\n",
       "      <td>8</td>\n",
       "      <td>5</td>\n",
       "      <td>1145</td>\n",
       "      <td>2</td>\n",
       "      <td>1</td>\n",
       "      <td>4</td>\n",
       "      <td>9</td>\n",
       "      <td>1</td>\n",
       "      <td>836</td>\n",
       "      <td>1</td>\n",
       "    </tr>\n",
       "    <tr>\n",
       "      <th>...</th>\n",
       "      <td>...</td>\n",
       "      <td>...</td>\n",
       "      <td>...</td>\n",
       "      <td>...</td>\n",
       "      <td>...</td>\n",
       "      <td>...</td>\n",
       "      <td>...</td>\n",
       "      <td>...</td>\n",
       "      <td>...</td>\n",
       "      <td>...</td>\n",
       "      <td>...</td>\n",
       "    </tr>\n",
       "    <tr>\n",
       "      <th>1455</th>\n",
       "      <td>7917</td>\n",
       "      <td>6</td>\n",
       "      <td>5</td>\n",
       "      <td>953</td>\n",
       "      <td>2</td>\n",
       "      <td>1</td>\n",
       "      <td>3</td>\n",
       "      <td>7</td>\n",
       "      <td>1</td>\n",
       "      <td>460</td>\n",
       "      <td>1</td>\n",
       "    </tr>\n",
       "    <tr>\n",
       "      <th>1456</th>\n",
       "      <td>13175</td>\n",
       "      <td>6</td>\n",
       "      <td>6</td>\n",
       "      <td>1542</td>\n",
       "      <td>2</td>\n",
       "      <td>0</td>\n",
       "      <td>3</td>\n",
       "      <td>7</td>\n",
       "      <td>2</td>\n",
       "      <td>500</td>\n",
       "      <td>1</td>\n",
       "    </tr>\n",
       "    <tr>\n",
       "      <th>1457</th>\n",
       "      <td>9042</td>\n",
       "      <td>7</td>\n",
       "      <td>9</td>\n",
       "      <td>1152</td>\n",
       "      <td>2</td>\n",
       "      <td>0</td>\n",
       "      <td>4</td>\n",
       "      <td>9</td>\n",
       "      <td>2</td>\n",
       "      <td>252</td>\n",
       "      <td>1</td>\n",
       "    </tr>\n",
       "    <tr>\n",
       "      <th>1458</th>\n",
       "      <td>9717</td>\n",
       "      <td>5</td>\n",
       "      <td>6</td>\n",
       "      <td>1078</td>\n",
       "      <td>1</td>\n",
       "      <td>0</td>\n",
       "      <td>2</td>\n",
       "      <td>5</td>\n",
       "      <td>0</td>\n",
       "      <td>240</td>\n",
       "      <td>0</td>\n",
       "    </tr>\n",
       "    <tr>\n",
       "      <th>1459</th>\n",
       "      <td>9937</td>\n",
       "      <td>5</td>\n",
       "      <td>6</td>\n",
       "      <td>1256</td>\n",
       "      <td>1</td>\n",
       "      <td>1</td>\n",
       "      <td>3</td>\n",
       "      <td>6</td>\n",
       "      <td>0</td>\n",
       "      <td>276</td>\n",
       "      <td>0</td>\n",
       "    </tr>\n",
       "  </tbody>\n",
       "</table>\n",
       "<p>1460 rows × 11 columns</p>\n",
       "</div>"
      ],
      "text/plain": [
       "      LotArea  OverallQual  OverallCond  TotalBsmtSF  FullBath  HalfBath  \\\n",
       "0        8450            7            5          856         2         1   \n",
       "1        9600            6            8         1262         2         0   \n",
       "2       11250            7            5          920         2         1   \n",
       "3        9550            7            5          756         1         0   \n",
       "4       14260            8            5         1145         2         1   \n",
       "...       ...          ...          ...          ...       ...       ...   \n",
       "1455     7917            6            5          953         2         1   \n",
       "1456    13175            6            6         1542         2         0   \n",
       "1457     9042            7            9         1152         2         0   \n",
       "1458     9717            5            6         1078         1         0   \n",
       "1459     9937            5            6         1256         1         1   \n",
       "\n",
       "      BedroomAbvGr  TotRmsAbvGrd  Fireplaces  GarageArea  AboveMedianPrice  \n",
       "0                3             8           0         548                 1  \n",
       "1                3             6           1         460                 1  \n",
       "2                3             6           1         608                 1  \n",
       "3                3             7           1         642                 0  \n",
       "4                4             9           1         836                 1  \n",
       "...            ...           ...         ...         ...               ...  \n",
       "1455             3             7           1         460                 1  \n",
       "1456             3             7           2         500                 1  \n",
       "1457             4             9           2         252                 1  \n",
       "1458             2             5           0         240                 0  \n",
       "1459             3             6           0         276                 0  \n",
       "\n",
       "[1460 rows x 11 columns]"
      ]
     },
     "execution_count": 5,
     "metadata": {},
     "output_type": "execute_result"
    }
   ],
   "source": [
    "df"
   ]
  },
  {
   "cell_type": "markdown",
   "metadata": {},
   "source": [
    "The dataset that we have now is in what we call a pandas dataframe. To convert it to an array, simply access its values:"
   ]
  },
  {
   "cell_type": "code",
   "execution_count": 6,
   "metadata": {
    "ExecuteTime": {
     "end_time": "2020-06-16T16:10:44.855057Z",
     "start_time": "2020-06-16T16:10:44.852607Z"
    }
   },
   "outputs": [],
   "source": [
    "dataset = df.values"
   ]
  },
  {
   "cell_type": "code",
   "execution_count": 7,
   "metadata": {
    "ExecuteTime": {
     "end_time": "2020-06-16T16:10:45.668296Z",
     "start_time": "2020-06-16T16:10:45.664574Z"
    }
   },
   "outputs": [
    {
     "data": {
      "text/plain": [
       "array([[ 8450,     7,     5, ...,     0,   548,     1],\n",
       "       [ 9600,     6,     8, ...,     1,   460,     1],\n",
       "       [11250,     7,     5, ...,     1,   608,     1],\n",
       "       ...,\n",
       "       [ 9042,     7,     9, ...,     2,   252,     1],\n",
       "       [ 9717,     5,     6, ...,     0,   240,     0],\n",
       "       [ 9937,     5,     6, ...,     0,   276,     0]])"
      ]
     },
     "execution_count": 7,
     "metadata": {},
     "output_type": "execute_result"
    }
   ],
   "source": [
    "dataset"
   ]
  },
  {
   "cell_type": "markdown",
   "metadata": {},
   "source": [
    "Now, we split the dataset into our input features and the label we wish to predict."
   ]
  },
  {
   "cell_type": "code",
   "execution_count": 8,
   "metadata": {
    "ExecuteTime": {
     "end_time": "2020-06-16T16:10:46.995675Z",
     "start_time": "2020-06-16T16:10:46.992894Z"
    }
   },
   "outputs": [],
   "source": [
    "X = dataset[:,0:10]\n",
    "Y = dataset[:,10]"
   ]
  },
  {
   "cell_type": "markdown",
   "metadata": {},
   "source": [
    "Normalizing our data is very important, as we want the input features to be on the same order of magnitude to make our training easier. We'll use a min-max scaler from scikit-learn which scales our data to be between 0 and 1."
   ]
  },
  {
   "cell_type": "code",
   "execution_count": 9,
   "metadata": {
    "ExecuteTime": {
     "end_time": "2020-06-16T16:10:51.909448Z",
     "start_time": "2020-06-16T16:10:49.654766Z"
    }
   },
   "outputs": [],
   "source": [
    "from sklearn import preprocessing"
   ]
  },
  {
   "cell_type": "code",
   "execution_count": 10,
   "metadata": {
    "ExecuteTime": {
     "end_time": "2020-06-16T16:10:53.376932Z",
     "start_time": "2020-06-16T16:10:53.373614Z"
    }
   },
   "outputs": [],
   "source": [
    "min_max_scaler = preprocessing.MinMaxScaler()\n",
    "X_scale = min_max_scaler.fit_transform(X)"
   ]
  },
  {
   "cell_type": "code",
   "execution_count": 11,
   "metadata": {
    "ExecuteTime": {
     "end_time": "2020-06-16T16:10:53.650962Z",
     "start_time": "2020-06-16T16:10:53.646873Z"
    }
   },
   "outputs": [
    {
     "data": {
      "text/plain": [
       "array([[0.0334198 , 0.66666667, 0.5       , ..., 0.5       , 0.        ,\n",
       "        0.3864598 ],\n",
       "       [0.03879502, 0.55555556, 0.875     , ..., 0.33333333, 0.33333333,\n",
       "        0.32440056],\n",
       "       [0.04650728, 0.66666667, 0.5       , ..., 0.33333333, 0.33333333,\n",
       "        0.42877292],\n",
       "       ...,\n",
       "       [0.03618687, 0.66666667, 1.        , ..., 0.58333333, 0.66666667,\n",
       "        0.17771509],\n",
       "       [0.03934189, 0.44444444, 0.625     , ..., 0.25      , 0.        ,\n",
       "        0.16925247],\n",
       "       [0.04037019, 0.44444444, 0.625     , ..., 0.33333333, 0.        ,\n",
       "        0.19464034]])"
      ]
     },
     "execution_count": 11,
     "metadata": {},
     "output_type": "execute_result"
    }
   ],
   "source": [
    "X_scale"
   ]
  },
  {
   "cell_type": "markdown",
   "metadata": {},
   "source": [
    "Lastly, we wish to set aside some parts of our dataset for a validation set and a test set. We use the function train_test_split from scikit-learn to do that."
   ]
  },
  {
   "cell_type": "code",
   "execution_count": 12,
   "metadata": {
    "ExecuteTime": {
     "end_time": "2020-06-16T16:10:58.154952Z",
     "start_time": "2020-06-16T16:10:55.363926Z"
    }
   },
   "outputs": [],
   "source": [
    "from sklearn.model_selection import train_test_split"
   ]
  },
  {
   "cell_type": "code",
   "execution_count": 13,
   "metadata": {
    "ExecuteTime": {
     "end_time": "2020-06-16T16:10:58.184749Z",
     "start_time": "2020-06-16T16:10:58.181110Z"
    }
   },
   "outputs": [],
   "source": [
    "X_train, X_val_and_test, Y_train, Y_val_and_test = train_test_split(X_scale, Y, test_size=0.3)"
   ]
  },
  {
   "cell_type": "code",
   "execution_count": 14,
   "metadata": {
    "ExecuteTime": {
     "end_time": "2020-06-16T16:10:58.216082Z",
     "start_time": "2020-06-16T16:10:58.212374Z"
    }
   },
   "outputs": [],
   "source": [
    "X_val, X_test, Y_val, Y_test = train_test_split(X_val_and_test, Y_val_and_test, test_size=0.5)"
   ]
  },
  {
   "cell_type": "code",
   "execution_count": 15,
   "metadata": {
    "ExecuteTime": {
     "end_time": "2020-06-16T16:10:58.251601Z",
     "start_time": "2020-06-16T16:10:58.248348Z"
    }
   },
   "outputs": [
    {
     "name": "stdout",
     "output_type": "stream",
     "text": [
      "(1022, 10) (219, 10) (219, 10) (1022,) (219,) (219,)\n"
     ]
    }
   ],
   "source": [
    "print(X_train.shape, X_val.shape, X_test.shape, Y_train.shape, Y_val.shape, Y_test.shape)"
   ]
  },
  {
   "cell_type": "markdown",
   "metadata": {},
   "source": [
    "# Building and Training Our First Neural Network"
   ]
  },
  {
   "cell_type": "markdown",
   "metadata": {},
   "source": [
    "We will be using Keras to build our architecture. Let's import the code from Keras that we will need to use:"
   ]
  },
  {
   "cell_type": "code",
   "execution_count": 24,
   "metadata": {
    "ExecuteTime": {
     "end_time": "2020-06-16T16:15:27.786058Z",
     "start_time": "2020-06-16T16:15:27.783646Z"
    }
   },
   "outputs": [],
   "source": [
    "import tensorflow as tf\n",
    "from tensorflow import keras"
   ]
  },
  {
   "cell_type": "code",
   "execution_count": 25,
   "metadata": {
    "ExecuteTime": {
     "end_time": "2020-06-16T16:15:39.336308Z",
     "start_time": "2020-06-16T16:15:39.333969Z"
    }
   },
   "outputs": [],
   "source": [
    "from tensorflow.keras import layers"
   ]
  },
  {
   "cell_type": "markdown",
   "metadata": {},
   "source": [
    "We will be using the Sequential model, which means that we merely need to describe the layers above in sequence. Our neural network has three layers:\n",
    "\n",
    "- Hidden layer 1: 32 neurons, ReLU activation\n",
    "- Hidden layer 2: 32 neurons, ReLU activation\n",
    "- Output Layer: 1 neuron, Sigmoid activation"
   ]
  },
  {
   "cell_type": "code",
   "execution_count": 27,
   "metadata": {
    "ExecuteTime": {
     "end_time": "2020-06-16T16:16:24.208233Z",
     "start_time": "2020-06-16T16:16:24.153952Z"
    }
   },
   "outputs": [],
   "source": [
    "model = tf.keras.Sequential([\n",
    "    layers.Dense(32, activation='relu', input_shape=(10,)),\n",
    "    layers.Dense(32, activation='relu'),\n",
    "    layers.Dense(1, activation='sigmoid'),\n",
    "])"
   ]
  },
  {
   "cell_type": "markdown",
   "metadata": {},
   "source": [
    "Now that we've got our architecture specified, we need to find the best numbers for it. Before we start our training, we have to configure the model by\n",
    "- Telling it what algorithm you want to use to do the optimization (we'll use stochastic gradient descent)\n",
    "- Telling it what loss function to use (for binary classification, we will use binary cross entropy)\n",
    "- Telling it what other metrics you want to track apart from the loss function (we want to track accuracy as well)\n",
    "\n",
    "We do so below:"
   ]
  },
  {
   "cell_type": "code",
   "execution_count": 28,
   "metadata": {
    "ExecuteTime": {
     "end_time": "2020-06-16T16:16:28.599400Z",
     "start_time": "2020-06-16T16:16:28.589787Z"
    }
   },
   "outputs": [],
   "source": [
    "model.compile(optimizer='sgd',\n",
    "              loss='binary_crossentropy',\n",
    "              metrics=['accuracy'])"
   ]
  },
  {
   "cell_type": "markdown",
   "metadata": {},
   "source": [
    "Training on the data is pretty straightforward and requires us to write one line of code. The function is called 'fit' as we are fitting the parameters to the data. We specify:\n",
    "- what data we are training on, which is X_train and Y_train\n",
    "- the size of our mini-batch \n",
    "- how long we want to train it for (epochs)\n",
    "- what our validation data is so that the model will tell us how we are doing on the validation data at each point.\n",
    "\n",
    "This function will output a history, which we save under the variable hist. We'll use this variable a little later."
   ]
  },
  {
   "cell_type": "code",
   "execution_count": 29,
   "metadata": {
    "ExecuteTime": {
     "end_time": "2020-06-16T16:16:41.363963Z",
     "start_time": "2020-06-16T16:16:35.871263Z"
    }
   },
   "outputs": [
    {
     "name": "stdout",
     "output_type": "stream",
     "text": [
      "Epoch 1/100\n",
      "32/32 [==============================] - 0s 5ms/step - loss: 0.7503 - accuracy: 0.4892 - val_loss: 0.7187 - val_accuracy: 0.5342\n",
      "Epoch 2/100\n",
      "32/32 [==============================] - 0s 1ms/step - loss: 0.7207 - accuracy: 0.4883 - val_loss: 0.7059 - val_accuracy: 0.5205\n",
      "Epoch 3/100\n",
      "32/32 [==============================] - 0s 2ms/step - loss: 0.7046 - accuracy: 0.4237 - val_loss: 0.6975 - val_accuracy: 0.4201\n",
      "Epoch 4/100\n",
      "32/32 [==============================] - 0s 2ms/step - loss: 0.6930 - accuracy: 0.4883 - val_loss: 0.6898 - val_accuracy: 0.6210\n",
      "Epoch 5/100\n",
      "32/32 [==============================] - 0s 1ms/step - loss: 0.6829 - accuracy: 0.6057 - val_loss: 0.6821 - val_accuracy: 0.6301\n",
      "Epoch 6/100\n",
      "32/32 [==============================] - 0s 1ms/step - loss: 0.6749 - accuracy: 0.6380 - val_loss: 0.6765 - val_accuracy: 0.6256\n",
      "Epoch 7/100\n",
      "32/32 [==============================] - 0s 1ms/step - loss: 0.6690 - accuracy: 0.6507 - val_loss: 0.6713 - val_accuracy: 0.6393\n",
      "Epoch 8/100\n",
      "32/32 [==============================] - 0s 1ms/step - loss: 0.6639 - accuracy: 0.6517 - val_loss: 0.6664 - val_accuracy: 0.6712\n",
      "Epoch 9/100\n",
      "32/32 [==============================] - 0s 1ms/step - loss: 0.6594 - accuracy: 0.6791 - val_loss: 0.6616 - val_accuracy: 0.6941\n",
      "Epoch 10/100\n",
      "32/32 [==============================] - 0s 1ms/step - loss: 0.6548 - accuracy: 0.7114 - val_loss: 0.6569 - val_accuracy: 0.7123\n",
      "Epoch 11/100\n",
      "32/32 [==============================] - 0s 1ms/step - loss: 0.6501 - accuracy: 0.7358 - val_loss: 0.6522 - val_accuracy: 0.7215\n",
      "Epoch 12/100\n",
      "32/32 [==============================] - 0s 2ms/step - loss: 0.6452 - accuracy: 0.7309 - val_loss: 0.6465 - val_accuracy: 0.7489\n",
      "Epoch 13/100\n",
      "32/32 [==============================] - 0s 1ms/step - loss: 0.6399 - accuracy: 0.7564 - val_loss: 0.6408 - val_accuracy: 0.7717\n",
      "Epoch 14/100\n",
      "32/32 [==============================] - 0s 1ms/step - loss: 0.6344 - accuracy: 0.7798 - val_loss: 0.6351 - val_accuracy: 0.7763\n",
      "Epoch 15/100\n",
      "32/32 [==============================] - 0s 1ms/step - loss: 0.6285 - accuracy: 0.7965 - val_loss: 0.6293 - val_accuracy: 0.7808\n",
      "Epoch 16/100\n",
      "32/32 [==============================] - 0s 1ms/step - loss: 0.6225 - accuracy: 0.7906 - val_loss: 0.6224 - val_accuracy: 0.8037\n",
      "Epoch 17/100\n",
      "32/32 [==============================] - 0s 1ms/step - loss: 0.6162 - accuracy: 0.8063 - val_loss: 0.6158 - val_accuracy: 0.8037\n",
      "Epoch 18/100\n",
      "32/32 [==============================] - 0s 1ms/step - loss: 0.6096 - accuracy: 0.8121 - val_loss: 0.6085 - val_accuracy: 0.8174\n",
      "Epoch 19/100\n",
      "32/32 [==============================] - 0s 1ms/step - loss: 0.6025 - accuracy: 0.8180 - val_loss: 0.6008 - val_accuracy: 0.8219\n",
      "Epoch 20/100\n",
      "32/32 [==============================] - 0s 2ms/step - loss: 0.5952 - accuracy: 0.8190 - val_loss: 0.5923 - val_accuracy: 0.8356\n",
      "Epoch 21/100\n",
      "32/32 [==============================] - 0s 2ms/step - loss: 0.5874 - accuracy: 0.8278 - val_loss: 0.5842 - val_accuracy: 0.8356\n",
      "Epoch 22/100\n",
      "32/32 [==============================] - 0s 2ms/step - loss: 0.5792 - accuracy: 0.8297 - val_loss: 0.5755 - val_accuracy: 0.8356\n",
      "Epoch 23/100\n",
      "32/32 [==============================] - 0s 1ms/step - loss: 0.5708 - accuracy: 0.8337 - val_loss: 0.5660 - val_accuracy: 0.8493\n",
      "Epoch 24/100\n",
      "32/32 [==============================] - 0s 1ms/step - loss: 0.5621 - accuracy: 0.8366 - val_loss: 0.5567 - val_accuracy: 0.8539\n",
      "Epoch 25/100\n",
      "32/32 [==============================] - 0s 1ms/step - loss: 0.5531 - accuracy: 0.8376 - val_loss: 0.5463 - val_accuracy: 0.8584\n",
      "Epoch 26/100\n",
      "32/32 [==============================] - 0s 2ms/step - loss: 0.5440 - accuracy: 0.8425 - val_loss: 0.5362 - val_accuracy: 0.8539\n",
      "Epoch 27/100\n",
      "32/32 [==============================] - 0s 1ms/step - loss: 0.5346 - accuracy: 0.8523 - val_loss: 0.5266 - val_accuracy: 0.8539\n",
      "Epoch 28/100\n",
      "32/32 [==============================] - 0s 1ms/step - loss: 0.5250 - accuracy: 0.8523 - val_loss: 0.5157 - val_accuracy: 0.8539\n",
      "Epoch 29/100\n",
      "32/32 [==============================] - 0s 2ms/step - loss: 0.5151 - accuracy: 0.8532 - val_loss: 0.5051 - val_accuracy: 0.8539\n",
      "Epoch 30/100\n",
      "32/32 [==============================] - 0s 1ms/step - loss: 0.5055 - accuracy: 0.8562 - val_loss: 0.4945 - val_accuracy: 0.8584\n",
      "Epoch 31/100\n",
      "32/32 [==============================] - 0s 1ms/step - loss: 0.4955 - accuracy: 0.8571 - val_loss: 0.4841 - val_accuracy: 0.8584\n",
      "Epoch 32/100\n",
      "32/32 [==============================] - 0s 2ms/step - loss: 0.4858 - accuracy: 0.8591 - val_loss: 0.4734 - val_accuracy: 0.8630\n",
      "Epoch 33/100\n",
      "32/32 [==============================] - 0s 2ms/step - loss: 0.4763 - accuracy: 0.8601 - val_loss: 0.4629 - val_accuracy: 0.8721\n",
      "Epoch 34/100\n",
      "32/32 [==============================] - 0s 2ms/step - loss: 0.4670 - accuracy: 0.8620 - val_loss: 0.4533 - val_accuracy: 0.8676\n",
      "Epoch 35/100\n",
      "32/32 [==============================] - 0s 2ms/step - loss: 0.4579 - accuracy: 0.8591 - val_loss: 0.4430 - val_accuracy: 0.8721\n",
      "Epoch 36/100\n",
      "32/32 [==============================] - 0s 2ms/step - loss: 0.4490 - accuracy: 0.8630 - val_loss: 0.4340 - val_accuracy: 0.8676\n",
      "Epoch 37/100\n",
      "32/32 [==============================] - 0s 2ms/step - loss: 0.4402 - accuracy: 0.8630 - val_loss: 0.4240 - val_accuracy: 0.8721\n",
      "Epoch 38/100\n",
      "32/32 [==============================] - 0s 2ms/step - loss: 0.4320 - accuracy: 0.8659 - val_loss: 0.4152 - val_accuracy: 0.8767\n",
      "Epoch 39/100\n",
      "32/32 [==============================] - 0s 2ms/step - loss: 0.4239 - accuracy: 0.8640 - val_loss: 0.4063 - val_accuracy: 0.8767\n",
      "Epoch 40/100\n",
      "32/32 [==============================] - 0s 2ms/step - loss: 0.4164 - accuracy: 0.8699 - val_loss: 0.3985 - val_accuracy: 0.8813\n",
      "Epoch 41/100\n",
      "32/32 [==============================] - 0s 2ms/step - loss: 0.4091 - accuracy: 0.8689 - val_loss: 0.3906 - val_accuracy: 0.8813\n",
      "Epoch 42/100\n",
      "32/32 [==============================] - 0s 2ms/step - loss: 0.4023 - accuracy: 0.8718 - val_loss: 0.3835 - val_accuracy: 0.8813\n",
      "Epoch 43/100\n",
      "32/32 [==============================] - 0s 2ms/step - loss: 0.3960 - accuracy: 0.8718 - val_loss: 0.3762 - val_accuracy: 0.8813\n",
      "Epoch 44/100\n",
      "32/32 [==============================] - 0s 1ms/step - loss: 0.3900 - accuracy: 0.8718 - val_loss: 0.3695 - val_accuracy: 0.8813\n",
      "Epoch 45/100\n",
      "32/32 [==============================] - 0s 1ms/step - loss: 0.3843 - accuracy: 0.8669 - val_loss: 0.3632 - val_accuracy: 0.8813\n",
      "Epoch 46/100\n",
      "32/32 [==============================] - 0s 1ms/step - loss: 0.3789 - accuracy: 0.8738 - val_loss: 0.3573 - val_accuracy: 0.8813\n",
      "Epoch 47/100\n",
      "32/32 [==============================] - 0s 1ms/step - loss: 0.3734 - accuracy: 0.8679 - val_loss: 0.3524 - val_accuracy: 0.8813\n",
      "Epoch 48/100\n",
      "32/32 [==============================] - 0s 2ms/step - loss: 0.3685 - accuracy: 0.8699 - val_loss: 0.3465 - val_accuracy: 0.8858\n",
      "Epoch 49/100\n",
      "32/32 [==============================] - 0s 1ms/step - loss: 0.3640 - accuracy: 0.8679 - val_loss: 0.3417 - val_accuracy: 0.8813\n",
      "Epoch 50/100\n",
      "32/32 [==============================] - 0s 1ms/step - loss: 0.3606 - accuracy: 0.8679 - val_loss: 0.3375 - val_accuracy: 0.8813\n",
      "Epoch 51/100\n",
      "32/32 [==============================] - 0s 2ms/step - loss: 0.3559 - accuracy: 0.8718 - val_loss: 0.3338 - val_accuracy: 0.8858\n",
      "Epoch 52/100\n",
      "32/32 [==============================] - 0s 1ms/step - loss: 0.3527 - accuracy: 0.8718 - val_loss: 0.3288 - val_accuracy: 0.8813\n",
      "Epoch 53/100\n",
      "32/32 [==============================] - 0s 1ms/step - loss: 0.3484 - accuracy: 0.8748 - val_loss: 0.3253 - val_accuracy: 0.8858\n",
      "Epoch 54/100\n",
      "32/32 [==============================] - 0s 1ms/step - loss: 0.3453 - accuracy: 0.8718 - val_loss: 0.3210 - val_accuracy: 0.8813\n",
      "Epoch 55/100\n",
      "32/32 [==============================] - 0s 2ms/step - loss: 0.3424 - accuracy: 0.8699 - val_loss: 0.3178 - val_accuracy: 0.8813\n",
      "Epoch 56/100\n",
      "32/32 [==============================] - 0s 2ms/step - loss: 0.3394 - accuracy: 0.8728 - val_loss: 0.3144 - val_accuracy: 0.8813\n",
      "Epoch 57/100\n",
      "32/32 [==============================] - 0s 2ms/step - loss: 0.3364 - accuracy: 0.8738 - val_loss: 0.3113 - val_accuracy: 0.8813\n",
      "Epoch 58/100\n",
      "32/32 [==============================] - 0s 2ms/step - loss: 0.3341 - accuracy: 0.8728 - val_loss: 0.3087 - val_accuracy: 0.8858\n"
     ]
    },
    {
     "name": "stdout",
     "output_type": "stream",
     "text": [
      "Epoch 59/100\n",
      "32/32 [==============================] - 0s 2ms/step - loss: 0.3314 - accuracy: 0.8718 - val_loss: 0.3062 - val_accuracy: 0.8858\n",
      "Epoch 60/100\n",
      "32/32 [==============================] - 0s 2ms/step - loss: 0.3286 - accuracy: 0.8708 - val_loss: 0.3047 - val_accuracy: 0.8904\n",
      "Epoch 61/100\n",
      "32/32 [==============================] - 0s 2ms/step - loss: 0.3264 - accuracy: 0.8708 - val_loss: 0.3009 - val_accuracy: 0.8813\n",
      "Epoch 62/100\n",
      "32/32 [==============================] - 0s 1ms/step - loss: 0.3250 - accuracy: 0.8728 - val_loss: 0.2982 - val_accuracy: 0.8904\n",
      "Epoch 63/100\n",
      "32/32 [==============================] - 0s 1ms/step - loss: 0.3225 - accuracy: 0.8738 - val_loss: 0.2966 - val_accuracy: 0.8858\n",
      "Epoch 64/100\n",
      "32/32 [==============================] - 0s 2ms/step - loss: 0.3215 - accuracy: 0.8689 - val_loss: 0.2938 - val_accuracy: 0.8950\n",
      "Epoch 65/100\n",
      "32/32 [==============================] - 0s 2ms/step - loss: 0.3192 - accuracy: 0.8728 - val_loss: 0.2919 - val_accuracy: 0.8950\n",
      "Epoch 66/100\n",
      "32/32 [==============================] - 0s 1ms/step - loss: 0.3173 - accuracy: 0.8728 - val_loss: 0.2899 - val_accuracy: 0.8950\n",
      "Epoch 67/100\n",
      "32/32 [==============================] - 0s 2ms/step - loss: 0.3156 - accuracy: 0.8767 - val_loss: 0.2880 - val_accuracy: 0.8950\n",
      "Epoch 68/100\n",
      "32/32 [==============================] - 0s 1ms/step - loss: 0.3137 - accuracy: 0.8748 - val_loss: 0.2875 - val_accuracy: 0.8950\n",
      "Epoch 69/100\n",
      "32/32 [==============================] - 0s 2ms/step - loss: 0.3131 - accuracy: 0.8708 - val_loss: 0.2845 - val_accuracy: 0.8950\n",
      "Epoch 70/100\n",
      "32/32 [==============================] - 0s 2ms/step - loss: 0.3107 - accuracy: 0.8718 - val_loss: 0.2829 - val_accuracy: 0.8950\n",
      "Epoch 71/100\n",
      "32/32 [==============================] - 0s 1ms/step - loss: 0.3094 - accuracy: 0.8777 - val_loss: 0.2812 - val_accuracy: 0.8950\n",
      "Epoch 72/100\n",
      "32/32 [==============================] - 0s 1ms/step - loss: 0.3083 - accuracy: 0.8767 - val_loss: 0.2798 - val_accuracy: 0.8904\n",
      "Epoch 73/100\n",
      "32/32 [==============================] - 0s 1ms/step - loss: 0.3072 - accuracy: 0.8796 - val_loss: 0.2782 - val_accuracy: 0.8950\n",
      "Epoch 74/100\n",
      "32/32 [==============================] - 0s 1ms/step - loss: 0.3058 - accuracy: 0.8767 - val_loss: 0.2767 - val_accuracy: 0.8950\n",
      "Epoch 75/100\n",
      "32/32 [==============================] - 0s 1ms/step - loss: 0.3043 - accuracy: 0.8748 - val_loss: 0.2754 - val_accuracy: 0.8950\n",
      "Epoch 76/100\n",
      "32/32 [==============================] - 0s 2ms/step - loss: 0.3035 - accuracy: 0.8748 - val_loss: 0.2743 - val_accuracy: 0.8995\n",
      "Epoch 77/100\n",
      "32/32 [==============================] - 0s 1ms/step - loss: 0.3021 - accuracy: 0.8796 - val_loss: 0.2730 - val_accuracy: 0.9041\n",
      "Epoch 78/100\n",
      "32/32 [==============================] - 0s 1ms/step - loss: 0.2994 - accuracy: 0.8757 - val_loss: 0.2722 - val_accuracy: 0.8995\n",
      "Epoch 79/100\n",
      "32/32 [==============================] - 0s 1ms/step - loss: 0.3000 - accuracy: 0.8816 - val_loss: 0.2703 - val_accuracy: 0.9041\n",
      "Epoch 80/100\n",
      "32/32 [==============================] - 0s 1ms/step - loss: 0.2991 - accuracy: 0.8836 - val_loss: 0.2691 - val_accuracy: 0.8995\n",
      "Epoch 81/100\n",
      "32/32 [==============================] - 0s 1ms/step - loss: 0.2981 - accuracy: 0.8826 - val_loss: 0.2680 - val_accuracy: 0.9041\n",
      "Epoch 82/100\n",
      "32/32 [==============================] - 0s 2ms/step - loss: 0.2976 - accuracy: 0.8806 - val_loss: 0.2670 - val_accuracy: 0.9041\n",
      "Epoch 83/100\n",
      "32/32 [==============================] - 0s 2ms/step - loss: 0.2954 - accuracy: 0.8836 - val_loss: 0.2663 - val_accuracy: 0.9041\n",
      "Epoch 84/100\n",
      "32/32 [==============================] - 0s 2ms/step - loss: 0.2947 - accuracy: 0.8845 - val_loss: 0.2650 - val_accuracy: 0.9041\n",
      "Epoch 85/100\n",
      "32/32 [==============================] - 0s 2ms/step - loss: 0.2942 - accuracy: 0.8806 - val_loss: 0.2640 - val_accuracy: 0.9041\n",
      "Epoch 86/100\n",
      "32/32 [==============================] - 0s 1ms/step - loss: 0.2933 - accuracy: 0.8806 - val_loss: 0.2632 - val_accuracy: 0.9041\n",
      "Epoch 87/100\n",
      "32/32 [==============================] - 0s 1ms/step - loss: 0.2921 - accuracy: 0.8836 - val_loss: 0.2621 - val_accuracy: 0.9041\n",
      "Epoch 88/100\n",
      "32/32 [==============================] - 0s 1ms/step - loss: 0.2912 - accuracy: 0.8836 - val_loss: 0.2611 - val_accuracy: 0.9087\n",
      "Epoch 89/100\n",
      "32/32 [==============================] - 0s 1ms/step - loss: 0.2911 - accuracy: 0.8806 - val_loss: 0.2604 - val_accuracy: 0.9041\n",
      "Epoch 90/100\n",
      "32/32 [==============================] - 0s 1ms/step - loss: 0.2903 - accuracy: 0.8806 - val_loss: 0.2593 - val_accuracy: 0.9087\n",
      "Epoch 91/100\n",
      "32/32 [==============================] - 0s 1ms/step - loss: 0.2895 - accuracy: 0.8855 - val_loss: 0.2592 - val_accuracy: 0.9041\n",
      "Epoch 92/100\n",
      "32/32 [==============================] - 0s 1ms/step - loss: 0.2886 - accuracy: 0.8816 - val_loss: 0.2576 - val_accuracy: 0.9087\n",
      "Epoch 93/100\n",
      "32/32 [==============================] - 0s 1ms/step - loss: 0.2871 - accuracy: 0.8816 - val_loss: 0.2572 - val_accuracy: 0.9041\n",
      "Epoch 94/100\n",
      "32/32 [==============================] - 0s 1ms/step - loss: 0.2866 - accuracy: 0.8836 - val_loss: 0.2560 - val_accuracy: 0.9087\n",
      "Epoch 95/100\n",
      "32/32 [==============================] - 0s 2ms/step - loss: 0.2859 - accuracy: 0.8845 - val_loss: 0.2552 - val_accuracy: 0.9087\n",
      "Epoch 96/100\n",
      "32/32 [==============================] - 0s 1ms/step - loss: 0.2851 - accuracy: 0.8826 - val_loss: 0.2546 - val_accuracy: 0.9041\n",
      "Epoch 97/100\n",
      "32/32 [==============================] - 0s 1ms/step - loss: 0.2847 - accuracy: 0.8855 - val_loss: 0.2535 - val_accuracy: 0.9087\n",
      "Epoch 98/100\n",
      "32/32 [==============================] - 0s 1ms/step - loss: 0.2841 - accuracy: 0.8836 - val_loss: 0.2528 - val_accuracy: 0.9087\n",
      "Epoch 99/100\n",
      "32/32 [==============================] - 0s 2ms/step - loss: 0.2841 - accuracy: 0.8826 - val_loss: 0.2525 - val_accuracy: 0.9041\n",
      "Epoch 100/100\n",
      "32/32 [==============================] - 0s 2ms/step - loss: 0.2826 - accuracy: 0.8855 - val_loss: 0.2515 - val_accuracy: 0.9087\n"
     ]
    }
   ],
   "source": [
    "hist = model.fit(X_train, Y_train,\n",
    "          batch_size=32, epochs=100,\n",
    "          validation_data=(X_val, Y_val))"
   ]
  },
  {
   "cell_type": "markdown",
   "metadata": {},
   "source": [
    "Evaluating our data on the test set:"
   ]
  },
  {
   "cell_type": "code",
   "execution_count": 30,
   "metadata": {
    "ExecuteTime": {
     "end_time": "2020-06-16T16:16:46.025765Z",
     "start_time": "2020-06-16T16:16:45.988977Z"
    }
   },
   "outputs": [
    {
     "name": "stdout",
     "output_type": "stream",
     "text": [
      "7/7 [==============================] - 0s 742us/step - loss: 0.3352 - accuracy: 0.8493\n"
     ]
    },
    {
     "data": {
      "text/plain": [
       "0.8493150472640991"
      ]
     },
     "execution_count": 30,
     "metadata": {},
     "output_type": "execute_result"
    }
   ],
   "source": [
    "model.evaluate(X_test, Y_test)[1]"
   ]
  },
  {
   "cell_type": "markdown",
   "metadata": {},
   "source": [
    "# Visualizing Loss and Accuracy"
   ]
  },
  {
   "cell_type": "markdown",
   "metadata": {},
   "source": [
    "Import the relevant package we need to do the visualization"
   ]
  },
  {
   "cell_type": "code",
   "execution_count": 31,
   "metadata": {
    "ExecuteTime": {
     "end_time": "2020-06-16T16:16:49.560381Z",
     "start_time": "2020-06-16T16:16:49.209638Z"
    }
   },
   "outputs": [],
   "source": [
    "import matplotlib.pyplot as plt"
   ]
  },
  {
   "cell_type": "markdown",
   "metadata": {},
   "source": [
    "We want to visualize the training loss and the validation loss like this:"
   ]
  },
  {
   "cell_type": "code",
   "execution_count": 37,
   "metadata": {
    "ExecuteTime": {
     "end_time": "2020-06-16T16:19:34.628432Z",
     "start_time": "2020-06-16T16:19:34.624829Z"
    }
   },
   "outputs": [
    {
     "data": {
      "text/plain": [
       "dict_keys(['loss', 'accuracy', 'val_loss', 'val_accuracy'])"
      ]
     },
     "execution_count": 37,
     "metadata": {},
     "output_type": "execute_result"
    }
   ],
   "source": [
    "hist.history.keys()"
   ]
  },
  {
   "cell_type": "code",
   "execution_count": 32,
   "metadata": {
    "ExecuteTime": {
     "end_time": "2020-06-16T16:16:51.545102Z",
     "start_time": "2020-06-16T16:16:50.677000Z"
    }
   },
   "outputs": [
    {
     "data": {
      "image/png": "[encoded data removed]",
      "text/plain": [
       "<Figure size 432x288 with 1 Axes>"
      ]
     },
     "metadata": {
      "needs_background": "light"
     },
     "output_type": "display_data"
    }
   ],
   "source": [
    "plt.plot(hist.history['loss'])\n",
    "plt.plot(hist.history['val_loss'])\n",
    "plt.title('Model loss')\n",
    "plt.ylabel('Loss')\n",
    "plt.xlabel('Epoch')\n",
    "plt.legend(['Train', 'Val'], loc='upper right')\n",
    "plt.show()"
   ]
  },
  {
   "cell_type": "markdown",
   "metadata": {},
   "source": [
    "We can also visualize the training accuracy and the validation accuracy like this:"
   ]
  },
  {
   "cell_type": "code",
   "execution_count": 39,
   "metadata": {
    "ExecuteTime": {
     "end_time": "2020-06-16T16:19:59.663094Z",
     "start_time": "2020-06-16T16:19:59.533681Z"
    }
   },
   "outputs": [
    {
     "data": {
      "image/png": "[encoded data removed]",
      "text/plain": [
       "<Figure size 432x288 with 1 Axes>"
      ]
     },
     "metadata": {
      "needs_background": "light"
     },
     "output_type": "display_data"
    }
   ],
   "source": [
    "plt.plot(hist.history['accuracy'])\n",
    "plt.plot(hist.history['val_accuracy'])\n",
    "plt.title('Model accuracy')\n",
    "plt.ylabel('Accuracy')\n",
    "plt.xlabel('Epoch')\n",
    "plt.legend(['Train', 'Val'], loc='lower right')\n",
    "plt.show()"
   ]
  },
  {
   "cell_type": "markdown",
   "metadata": {},
   "source": [
    "# Adding Regularization to our Neural Network"
   ]
  },
  {
   "cell_type": "markdown",
   "metadata": {},
   "source": [
    "We'll train a model which will overfit, which we call Model 2. This might take a few minutes."
   ]
  },
  {
   "cell_type": "code",
   "execution_count": 41,
   "metadata": {
    "ExecuteTime": {
     "end_time": "2020-06-16T16:21:41.275565Z",
     "start_time": "2020-06-16T16:20:52.141373Z"
    },
    "scrolled": true
   },
   "outputs": [
    {
     "name": "stdout",
     "output_type": "stream",
     "text": [
      "Epoch 1/100\n",
      "32/32 [==============================] - 1s 16ms/step - loss: 0.5172 - accuracy: 0.7368 - val_loss: 0.3332 - val_accuracy: 0.8813\n",
      "Epoch 2/100\n",
      "32/32 [==============================] - 0s 14ms/step - loss: 0.3411 - accuracy: 0.8552 - val_loss: 0.2675 - val_accuracy: 0.8950\n",
      "Epoch 3/100\n",
      "32/32 [==============================] - 0s 14ms/step - loss: 0.3422 - accuracy: 0.8532 - val_loss: 0.3071 - val_accuracy: 0.9041\n",
      "Epoch 4/100\n",
      "32/32 [==============================] - 1s 19ms/step - loss: 0.2907 - accuracy: 0.8777 - val_loss: 0.2346 - val_accuracy: 0.9132\n",
      "Epoch 5/100\n",
      "32/32 [==============================] - 0s 15ms/step - loss: 0.2806 - accuracy: 0.8836 - val_loss: 0.2245 - val_accuracy: 0.9132\n",
      "Epoch 6/100\n",
      "32/32 [==============================] - 0s 15ms/step - loss: 0.3064 - accuracy: 0.8796 - val_loss: 0.2315 - val_accuracy: 0.9041\n",
      "Epoch 7/100\n",
      "32/32 [==============================] - 0s 14ms/step - loss: 0.2575 - accuracy: 0.8982 - val_loss: 0.1989 - val_accuracy: 0.9041\n",
      "Epoch 8/100\n",
      "32/32 [==============================] - 0s 15ms/step - loss: 0.2446 - accuracy: 0.9031 - val_loss: 0.2298 - val_accuracy: 0.9041\n",
      "Epoch 9/100\n",
      "32/32 [==============================] - 0s 14ms/step - loss: 0.2549 - accuracy: 0.8943 - val_loss: 0.2421 - val_accuracy: 0.9087\n",
      "Epoch 10/100\n",
      "32/32 [==============================] - 0s 13ms/step - loss: 0.2463 - accuracy: 0.9022 - val_loss: 0.2313 - val_accuracy: 0.9041\n",
      "Epoch 11/100\n",
      "32/32 [==============================] - 0s 14ms/step - loss: 0.2398 - accuracy: 0.9051 - val_loss: 0.2184 - val_accuracy: 0.9178\n",
      "Epoch 12/100\n",
      "32/32 [==============================] - 0s 13ms/step - loss: 0.2183 - accuracy: 0.9110 - val_loss: 0.2602 - val_accuracy: 0.9178\n",
      "Epoch 13/100\n",
      "32/32 [==============================] - 0s 13ms/step - loss: 0.2233 - accuracy: 0.9041 - val_loss: 0.2083 - val_accuracy: 0.9132\n",
      "Epoch 14/100\n",
      "32/32 [==============================] - 0s 14ms/step - loss: 0.2390 - accuracy: 0.8953 - val_loss: 0.2097 - val_accuracy: 0.9224\n",
      "Epoch 15/100\n",
      "32/32 [==============================] - 0s 13ms/step - loss: 0.2150 - accuracy: 0.9119 - val_loss: 0.2129 - val_accuracy: 0.9178\n",
      "Epoch 16/100\n",
      "32/32 [==============================] - 0s 14ms/step - loss: 0.2171 - accuracy: 0.9110 - val_loss: 0.2177 - val_accuracy: 0.9178\n",
      "Epoch 17/100\n",
      "32/32 [==============================] - 0s 14ms/step - loss: 0.2205 - accuracy: 0.9061 - val_loss: 0.2093 - val_accuracy: 0.9224\n",
      "Epoch 18/100\n",
      "32/32 [==============================] - 0s 14ms/step - loss: 0.2405 - accuracy: 0.8973 - val_loss: 0.2073 - val_accuracy: 0.9041\n",
      "Epoch 19/100\n",
      "32/32 [==============================] - 0s 14ms/step - loss: 0.2074 - accuracy: 0.9139 - val_loss: 0.2283 - val_accuracy: 0.8995\n",
      "Epoch 20/100\n",
      "32/32 [==============================] - 1s 20ms/step - loss: 0.2266 - accuracy: 0.9002 - val_loss: 0.2181 - val_accuracy: 0.9178\n",
      "Epoch 21/100\n",
      "32/32 [==============================] - 1s 16ms/step - loss: 0.1900 - accuracy: 0.9198 - val_loss: 0.2234 - val_accuracy: 0.8995\n",
      "Epoch 22/100\n",
      "32/32 [==============================] - 0s 15ms/step - loss: 0.1919 - accuracy: 0.9149 - val_loss: 0.2133 - val_accuracy: 0.9041\n",
      "Epoch 23/100\n",
      "32/32 [==============================] - 0s 14ms/step - loss: 0.2017 - accuracy: 0.9178 - val_loss: 0.2137 - val_accuracy: 0.9132\n",
      "Epoch 24/100\n",
      "32/32 [==============================] - 0s 14ms/step - loss: 0.1925 - accuracy: 0.9198 - val_loss: 0.2125 - val_accuracy: 0.9087\n",
      "Epoch 25/100\n",
      "32/32 [==============================] - 0s 14ms/step - loss: 0.1922 - accuracy: 0.9188 - val_loss: 0.2500 - val_accuracy: 0.9087\n",
      "Epoch 26/100\n",
      "32/32 [==============================] - 1s 19ms/step - loss: 0.2109 - accuracy: 0.9188 - val_loss: 0.2130 - val_accuracy: 0.8995\n",
      "Epoch 27/100\n",
      "32/32 [==============================] - 0s 15ms/step - loss: 0.2061 - accuracy: 0.9139 - val_loss: 0.2067 - val_accuracy: 0.9132\n",
      "Epoch 28/100\n",
      "32/32 [==============================] - 1s 21ms/step - loss: 0.1758 - accuracy: 0.9266 - val_loss: 0.2364 - val_accuracy: 0.9087\n",
      "Epoch 29/100\n",
      "32/32 [==============================] - 1s 17ms/step - loss: 0.1847 - accuracy: 0.9266 - val_loss: 0.2554 - val_accuracy: 0.8950\n",
      "Epoch 30/100\n",
      "32/32 [==============================] - 1s 16ms/step - loss: 0.1962 - accuracy: 0.9159 - val_loss: 0.2271 - val_accuracy: 0.9224\n",
      "Epoch 31/100\n",
      "32/32 [==============================] - 1s 16ms/step - loss: 0.1745 - accuracy: 0.9286 - val_loss: 0.2748 - val_accuracy: 0.9178\n",
      "Epoch 32/100\n",
      "32/32 [==============================] - 1s 19ms/step - loss: 0.1799 - accuracy: 0.9227 - val_loss: 0.2436 - val_accuracy: 0.8950\n",
      "Epoch 33/100\n",
      "32/32 [==============================] - 1s 18ms/step - loss: 0.1829 - accuracy: 0.9178 - val_loss: 0.2755 - val_accuracy: 0.8950\n",
      "Epoch 34/100\n",
      "32/32 [==============================] - 1s 17ms/step - loss: 0.1786 - accuracy: 0.9256 - val_loss: 0.2758 - val_accuracy: 0.8995\n",
      "Epoch 35/100\n",
      "32/32 [==============================] - 1s 19ms/step - loss: 0.1777 - accuracy: 0.9276 - val_loss: 0.2511 - val_accuracy: 0.8995\n",
      "Epoch 36/100\n",
      "32/32 [==============================] - 0s 14ms/step - loss: 0.1784 - accuracy: 0.9237 - val_loss: 0.2665 - val_accuracy: 0.8813\n",
      "Epoch 37/100\n",
      "32/32 [==============================] - 0s 14ms/step - loss: 0.2013 - accuracy: 0.9188 - val_loss: 0.2738 - val_accuracy: 0.8858\n",
      "Epoch 38/100\n",
      "32/32 [==============================] - 0s 14ms/step - loss: 0.1815 - accuracy: 0.9374 - val_loss: 0.2580 - val_accuracy: 0.9132\n",
      "Epoch 39/100\n",
      "32/32 [==============================] - 0s 13ms/step - loss: 0.1900 - accuracy: 0.9217 - val_loss: 0.2380 - val_accuracy: 0.8858\n",
      "Epoch 40/100\n",
      "32/32 [==============================] - 0s 13ms/step - loss: 0.1642 - accuracy: 0.9305 - val_loss: 0.2996 - val_accuracy: 0.9041\n",
      "Epoch 41/100\n",
      "32/32 [==============================] - 0s 14ms/step - loss: 0.1837 - accuracy: 0.9217 - val_loss: 0.2528 - val_accuracy: 0.9087\n",
      "Epoch 42/100\n",
      "32/32 [==============================] - 0s 14ms/step - loss: 0.1640 - accuracy: 0.9315 - val_loss: 0.2619 - val_accuracy: 0.9178\n",
      "Epoch 43/100\n",
      "32/32 [==============================] - 0s 13ms/step - loss: 0.1894 - accuracy: 0.9139 - val_loss: 0.2420 - val_accuracy: 0.9041\n",
      "Epoch 44/100\n",
      "32/32 [==============================] - 0s 14ms/step - loss: 0.1737 - accuracy: 0.9207 - val_loss: 0.2531 - val_accuracy: 0.8767\n",
      "Epoch 45/100\n",
      "32/32 [==============================] - 0s 14ms/step - loss: 0.1648 - accuracy: 0.9295 - val_loss: 0.2605 - val_accuracy: 0.8995\n",
      "Epoch 46/100\n",
      "32/32 [==============================] - 0s 14ms/step - loss: 0.1551 - accuracy: 0.9315 - val_loss: 0.2366 - val_accuracy: 0.9087\n",
      "Epoch 47/100\n",
      "32/32 [==============================] - 0s 14ms/step - loss: 0.1514 - accuracy: 0.9344 - val_loss: 0.2608 - val_accuracy: 0.9132\n",
      "Epoch 48/100\n",
      "32/32 [==============================] - 0s 13ms/step - loss: 0.1538 - accuracy: 0.9364 - val_loss: 0.3190 - val_accuracy: 0.8813\n",
      "Epoch 49/100\n",
      "32/32 [==============================] - 0s 13ms/step - loss: 0.1661 - accuracy: 0.9354 - val_loss: 0.2493 - val_accuracy: 0.9178\n",
      "Epoch 50/100\n",
      "32/32 [==============================] - 0s 13ms/step - loss: 0.1487 - accuracy: 0.9325 - val_loss: 0.2919 - val_accuracy: 0.9041\n",
      "Epoch 51/100\n",
      "32/32 [==============================] - 0s 15ms/step - loss: 0.1477 - accuracy: 0.9374 - val_loss: 0.3666 - val_accuracy: 0.9087\n",
      "Epoch 52/100\n",
      "32/32 [==============================] - 0s 15ms/step - loss: 0.1487 - accuracy: 0.9325 - val_loss: 0.2878 - val_accuracy: 0.8950\n",
      "Epoch 53/100\n",
      "32/32 [==============================] - 0s 15ms/step - loss: 0.1583 - accuracy: 0.9276 - val_loss: 0.3341 - val_accuracy: 0.9041\n",
      "Epoch 54/100\n",
      "32/32 [==============================] - 0s 15ms/step - loss: 0.1677 - accuracy: 0.9276 - val_loss: 0.3158 - val_accuracy: 0.9132\n",
      "Epoch 55/100\n",
      "32/32 [==============================] - 0s 15ms/step - loss: 0.1647 - accuracy: 0.9266 - val_loss: 0.2787 - val_accuracy: 0.8995\n",
      "Epoch 56/100\n",
      "32/32 [==============================] - 0s 14ms/step - loss: 0.1641 - accuracy: 0.9276 - val_loss: 0.2882 - val_accuracy: 0.8904\n",
      "Epoch 57/100\n",
      "32/32 [==============================] - 0s 13ms/step - loss: 0.1827 - accuracy: 0.9256 - val_loss: 0.2587 - val_accuracy: 0.8858\n",
      "Epoch 58/100\n",
      "32/32 [==============================] - 0s 13ms/step - loss: 0.1627 - accuracy: 0.9237 - val_loss: 0.2645 - val_accuracy: 0.9041\n",
      "Epoch 59/100\n",
      "32/32 [==============================] - 0s 13ms/step - loss: 0.1421 - accuracy: 0.9364 - val_loss: 0.3193 - val_accuracy: 0.8995\n",
      "Epoch 60/100\n",
      "32/32 [==============================] - 0s 13ms/step - loss: 0.1408 - accuracy: 0.9364 - val_loss: 0.3103 - val_accuracy: 0.8995\n",
      "Epoch 61/100\n",
      "32/32 [==============================] - 0s 14ms/step - loss: 0.1625 - accuracy: 0.9374 - val_loss: 0.2586 - val_accuracy: 0.9087\n",
      "Epoch 62/100\n",
      "32/32 [==============================] - 0s 13ms/step - loss: 0.1451 - accuracy: 0.9403 - val_loss: 0.2920 - val_accuracy: 0.9041\n",
      "Epoch 63/100\n",
      "32/32 [==============================] - 0s 13ms/step - loss: 0.1557 - accuracy: 0.9432 - val_loss: 0.3155 - val_accuracy: 0.8950\n",
      "Epoch 64/100\n",
      "32/32 [==============================] - 0s 13ms/step - loss: 0.1440 - accuracy: 0.9432 - val_loss: 0.2803 - val_accuracy: 0.9132\n",
      "Epoch 65/100\n",
      "32/32 [==============================] - 0s 13ms/step - loss: 0.1726 - accuracy: 0.9325 - val_loss: 0.3514 - val_accuracy: 0.9041\n",
      "Epoch 66/100\n",
      "32/32 [==============================] - 0s 13ms/step - loss: 0.1761 - accuracy: 0.9344 - val_loss: 0.2452 - val_accuracy: 0.9087\n",
      "Epoch 67/100\n",
      "32/32 [==============================] - 0s 13ms/step - loss: 0.1429 - accuracy: 0.9423 - val_loss: 0.2425 - val_accuracy: 0.9224\n",
      "Epoch 68/100\n",
      "32/32 [==============================] - 0s 14ms/step - loss: 0.1335 - accuracy: 0.9432 - val_loss: 0.3967 - val_accuracy: 0.9041\n",
      "Epoch 69/100\n",
      "32/32 [==============================] - 0s 13ms/step - loss: 0.1886 - accuracy: 0.9090 - val_loss: 0.3132 - val_accuracy: 0.8813\n",
      "Epoch 70/100\n",
      "32/32 [==============================] - 0s 13ms/step - loss: 0.1551 - accuracy: 0.9354 - val_loss: 0.2730 - val_accuracy: 0.9041\n",
      "Epoch 71/100\n",
      "32/32 [==============================] - 0s 13ms/step - loss: 0.1244 - accuracy: 0.9452 - val_loss: 0.3900 - val_accuracy: 0.9178\n",
      "Epoch 72/100\n",
      "32/32 [==============================] - 0s 13ms/step - loss: 0.1206 - accuracy: 0.9511 - val_loss: 0.3545 - val_accuracy: 0.9132\n",
      "Epoch 73/100\n",
      "32/32 [==============================] - 0s 14ms/step - loss: 0.1277 - accuracy: 0.9550 - val_loss: 0.4186 - val_accuracy: 0.8767\n",
      "Epoch 74/100\n",
      "32/32 [==============================] - 0s 14ms/step - loss: 0.1529 - accuracy: 0.9325 - val_loss: 0.3068 - val_accuracy: 0.9087\n",
      "Epoch 75/100\n",
      "32/32 [==============================] - 0s 13ms/step - loss: 0.1848 - accuracy: 0.9207 - val_loss: 0.2486 - val_accuracy: 0.9132\n",
      "Epoch 76/100\n",
      "32/32 [==============================] - 0s 13ms/step - loss: 0.1284 - accuracy: 0.9540 - val_loss: 0.4099 - val_accuracy: 0.9132\n",
      "Epoch 77/100\n",
      "32/32 [==============================] - 0s 13ms/step - loss: 0.1188 - accuracy: 0.9550 - val_loss: 0.4626 - val_accuracy: 0.8995\n",
      "Epoch 78/100\n",
      "32/32 [==============================] - 0s 14ms/step - loss: 0.1837 - accuracy: 0.9237 - val_loss: 0.2981 - val_accuracy: 0.9132\n",
      "Epoch 79/100\n",
      "32/32 [==============================] - 0s 14ms/step - loss: 0.1302 - accuracy: 0.9393 - val_loss: 0.4270 - val_accuracy: 0.9132\n",
      "Epoch 80/100\n",
      "32/32 [==============================] - 0s 14ms/step - loss: 0.1210 - accuracy: 0.9521 - val_loss: 0.3651 - val_accuracy: 0.9178\n",
      "Epoch 81/100\n",
      "32/32 [==============================] - 0s 13ms/step - loss: 0.1488 - accuracy: 0.9364 - val_loss: 0.3007 - val_accuracy: 0.8858\n",
      "Epoch 82/100\n",
      "32/32 [==============================] - 0s 13ms/step - loss: 0.1511 - accuracy: 0.9442 - val_loss: 0.3605 - val_accuracy: 0.8995\n",
      "Epoch 83/100\n",
      "32/32 [==============================] - 1s 16ms/step - loss: 0.1242 - accuracy: 0.9521 - val_loss: 0.3192 - val_accuracy: 0.9132\n",
      "Epoch 84/100\n",
      "32/32 [==============================] - 1s 17ms/step - loss: 0.1135 - accuracy: 0.9511 - val_loss: 0.3182 - val_accuracy: 0.9132\n",
      "Epoch 85/100\n",
      "32/32 [==============================] - 1s 22ms/step - loss: 0.1508 - accuracy: 0.9295 - val_loss: 0.3021 - val_accuracy: 0.9087\n",
      "Epoch 86/100\n",
      "32/32 [==============================] - 1s 17ms/step - loss: 0.1218 - accuracy: 0.9530 - val_loss: 0.4700 - val_accuracy: 0.9087\n",
      "Epoch 87/100\n",
      "32/32 [==============================] - 1s 18ms/step - loss: 0.1157 - accuracy: 0.9530 - val_loss: 0.6127 - val_accuracy: 0.9041\n",
      "Epoch 88/100\n",
      "32/32 [==============================] - 0s 14ms/step - loss: 0.1234 - accuracy: 0.9511 - val_loss: 0.5255 - val_accuracy: 0.9087\n",
      "Epoch 89/100\n",
      "32/32 [==============================] - 1s 18ms/step - loss: 0.0888 - accuracy: 0.9677 - val_loss: 0.4772 - val_accuracy: 0.9087\n",
      "Epoch 90/100\n",
      "32/32 [==============================] - 0s 15ms/step - loss: 0.1088 - accuracy: 0.9579 - val_loss: 0.5271 - val_accuracy: 0.9132\n",
      "Epoch 91/100\n",
      "32/32 [==============================] - 0s 15ms/step - loss: 0.1186 - accuracy: 0.9521 - val_loss: 0.4010 - val_accuracy: 0.9087\n",
      "Epoch 92/100\n",
      "32/32 [==============================] - 0s 15ms/step - loss: 0.1361 - accuracy: 0.9481 - val_loss: 0.4589 - val_accuracy: 0.8904\n",
      "Epoch 93/100\n",
      "32/32 [==============================] - 1s 17ms/step - loss: 0.2117 - accuracy: 0.9100 - val_loss: 0.3439 - val_accuracy: 0.9087\n",
      "Epoch 94/100\n",
      "32/32 [==============================] - 1s 21ms/step - loss: 0.1413 - accuracy: 0.9462 - val_loss: 0.4265 - val_accuracy: 0.9178\n",
      "Epoch 95/100\n",
      "32/32 [==============================] - 1s 19ms/step - loss: 0.1023 - accuracy: 0.9599 - val_loss: 0.5870 - val_accuracy: 0.8995\n",
      "Epoch 96/100\n",
      "32/32 [==============================] - 0s 14ms/step - loss: 0.1457 - accuracy: 0.9325 - val_loss: 0.4169 - val_accuracy: 0.9132\n",
      "Epoch 97/100\n",
      "32/32 [==============================] - 0s 14ms/step - loss: 0.0991 - accuracy: 0.9589 - val_loss: 0.4346 - val_accuracy: 0.9132\n",
      "Epoch 98/100\n",
      "32/32 [==============================] - 0s 14ms/step - loss: 0.1169 - accuracy: 0.9530 - val_loss: 0.4769 - val_accuracy: 0.9178\n",
      "Epoch 99/100\n",
      "32/32 [==============================] - 0s 13ms/step - loss: 0.1134 - accuracy: 0.9511 - val_loss: 0.4646 - val_accuracy: 0.9087\n",
      "Epoch 100/100\n",
      "32/32 [==============================] - 0s 13ms/step - loss: 0.1389 - accuracy: 0.9364 - val_loss: 0.3721 - val_accuracy: 0.8995\n"
     ]
    }
   ],
   "source": [
    "model_2 = tf.keras.Sequential([\n",
    "    layers.Dense(1000, activation='relu', input_shape=(10,)),\n",
    "    layers.Dense(1000, activation='relu'),\n",
    "    layers.Dense(1000, activation='relu'),\n",
    "    layers.Dense(1000, activation='relu'),\n",
    "    layers.Dense(1, activation='sigmoid'),\n",
    "])\n",
    "model_2.compile(optimizer='adam',\n",
    "              loss='binary_crossentropy',\n",
    "              metrics=['accuracy'])\n",
    "hist_2 = model_2.fit(X_train, Y_train,\n",
    "          batch_size=32, epochs=100,\n",
    "          validation_data=(X_val, Y_val))"
   ]
  },
  {
   "cell_type": "markdown",
   "metadata": {},
   "source": [
    "Let's do the same visualization to see what overfitting looks like in terms of the loss and accuracy."
   ]
  },
  {
   "cell_type": "code",
   "execution_count": 42,
   "metadata": {
    "ExecuteTime": {
     "end_time": "2020-06-16T16:21:52.268743Z",
     "start_time": "2020-06-16T16:21:52.130719Z"
    }
   },
   "outputs": [
    {
     "data": {
      "image/png": "[encoded data removed]",
      "text/plain": [
       "<Figure size 432x288 with 1 Axes>"
      ]
     },
     "metadata": {
      "needs_background": "light"
     },
     "output_type": "display_data"
    }
   ],
   "source": [
    "plt.plot(hist_2.history['loss'])\n",
    "plt.plot(hist_2.history['val_loss'])\n",
    "plt.title('Model loss')\n",
    "plt.ylabel('Loss')\n",
    "plt.xlabel('Epoch')\n",
    "plt.legend(['Train', 'Val'], loc='upper right')\n",
    "plt.show()"
   ]
  },
  {
   "cell_type": "code",
   "execution_count": 44,
   "metadata": {
    "ExecuteTime": {
     "end_time": "2020-06-16T16:22:00.091660Z",
     "start_time": "2020-06-16T16:21:59.957852Z"
    }
   },
   "outputs": [
    {
     "data": {
      "image/png": "[encoded data removed]",
      "text/plain": [
       "<Figure size 432x288 with 1 Axes>"
      ]
     },
     "metadata": {
      "needs_background": "light"
     },
     "output_type": "display_data"
    }
   ],
   "source": [
    "plt.plot(hist_2.history['accuracy'])\n",
    "plt.plot(hist_2.history['val_accuracy'])\n",
    "plt.title('Model accuracy')\n",
    "plt.ylabel('Accuracy')\n",
    "plt.xlabel('Epoch')\n",
    "plt.legend(['Train', 'Val'], loc='lower right')\n",
    "plt.show()"
   ]
  },
  {
   "cell_type": "markdown",
   "metadata": {},
   "source": [
    "To address the overfitting we see in Model 2, we'll incorporate L2 regularization and dropout in our third model here (Model 3)."
   ]
  },
  {
   "cell_type": "code",
   "execution_count": 46,
   "metadata": {
    "ExecuteTime": {
     "end_time": "2020-06-16T16:24:40.720562Z",
     "start_time": "2020-06-16T16:24:40.613385Z"
    }
   },
   "outputs": [],
   "source": [
    "model_3 = tf.keras.Sequential([\n",
    "    layers.Dense(1000, activation='relu', kernel_regularizer=keras.regularizers.l2(0.01), input_shape=(10,)),\n",
    "    layers.Dropout(0.3),\n",
    "    layers.Dense(1000, activation='relu', kernel_regularizer=keras.regularizers.l2(0.01)),\n",
    "    layers.Dropout(0.3),\n",
    "    layers.Dense(1000, activation='relu', kernel_regularizer=keras.regularizers.l2(0.01)),\n",
    "    layers.Dropout(0.3),\n",
    "    layers.Dense(1000, activation='relu', kernel_regularizer=keras.regularizers.l2(0.01)),\n",
    "    layers.Dropout(0.3),\n",
    "    layers.Dense(1, activation='sigmoid', kernel_regularizer=keras.regularizers.l2(0.01)),\n",
    "])"
   ]
  },
  {
   "cell_type": "code",
   "execution_count": 47,
   "metadata": {
    "ExecuteTime": {
     "end_time": "2020-06-16T16:26:05.792672Z",
     "start_time": "2020-06-16T16:24:49.245098Z"
    },
    "scrolled": true
   },
   "outputs": [
    {
     "name": "stdout",
     "output_type": "stream",
     "text": [
      "Epoch 1/100\n",
      "32/32 [==============================] - 1s 26ms/step - loss: 14.2469 - accuracy: 0.6321 - val_loss: 3.9101 - val_accuracy: 0.7215\n",
      "Epoch 2/100\n",
      "32/32 [==============================] - 1s 22ms/step - loss: 1.6642 - accuracy: 0.8444 - val_loss: 0.6556 - val_accuracy: 0.8539\n",
      "Epoch 3/100\n",
      "32/32 [==============================] - 1s 23ms/step - loss: 0.5972 - accuracy: 0.8395 - val_loss: 0.4804 - val_accuracy: 0.9087\n",
      "Epoch 4/100\n",
      "32/32 [==============================] - 1s 27ms/step - loss: 0.5184 - accuracy: 0.8767 - val_loss: 0.4497 - val_accuracy: 0.9087\n",
      "Epoch 5/100\n",
      "32/32 [==============================] - 1s 23ms/step - loss: 0.4978 - accuracy: 0.8738 - val_loss: 0.4432 - val_accuracy: 0.9041\n",
      "Epoch 6/100\n",
      "32/32 [==============================] - 1s 23ms/step - loss: 0.5079 - accuracy: 0.8620 - val_loss: 0.4326 - val_accuracy: 0.9178\n",
      "Epoch 7/100\n",
      "32/32 [==============================] - 1s 26ms/step - loss: 0.4682 - accuracy: 0.8796 - val_loss: 0.4374 - val_accuracy: 0.8995\n",
      "Epoch 8/100\n",
      "32/32 [==============================] - 1s 24ms/step - loss: 0.4742 - accuracy: 0.8757 - val_loss: 0.4145 - val_accuracy: 0.9132\n",
      "Epoch 9/100\n",
      "32/32 [==============================] - 1s 25ms/step - loss: 0.4702 - accuracy: 0.8787 - val_loss: 0.4642 - val_accuracy: 0.8721\n",
      "Epoch 10/100\n",
      "32/32 [==============================] - 1s 23ms/step - loss: 0.4845 - accuracy: 0.8679 - val_loss: 0.4192 - val_accuracy: 0.9178\n",
      "Epoch 11/100\n",
      "32/32 [==============================] - 1s 23ms/step - loss: 0.4625 - accuracy: 0.8787 - val_loss: 0.4243 - val_accuracy: 0.9132\n",
      "Epoch 12/100\n",
      "32/32 [==============================] - 1s 22ms/step - loss: 0.4498 - accuracy: 0.8796 - val_loss: 0.4260 - val_accuracy: 0.8995\n",
      "Epoch 13/100\n",
      "32/32 [==============================] - 1s 25ms/step - loss: 0.4602 - accuracy: 0.8767 - val_loss: 0.4391 - val_accuracy: 0.8813\n",
      "Epoch 14/100\n",
      "32/32 [==============================] - 1s 28ms/step - loss: 0.4568 - accuracy: 0.8875 - val_loss: 0.4339 - val_accuracy: 0.8950\n",
      "Epoch 15/100\n",
      "32/32 [==============================] - 1s 26ms/step - loss: 0.4595 - accuracy: 0.8777 - val_loss: 0.4127 - val_accuracy: 0.9087\n",
      "Epoch 16/100\n",
      "32/32 [==============================] - 1s 25ms/step - loss: 0.4847 - accuracy: 0.8640 - val_loss: 0.4112 - val_accuracy: 0.9178\n",
      "Epoch 17/100\n",
      "32/32 [==============================] - 1s 25ms/step - loss: 0.4532 - accuracy: 0.8796 - val_loss: 0.4054 - val_accuracy: 0.9087\n",
      "Epoch 18/100\n",
      "32/32 [==============================] - 1s 25ms/step - loss: 0.4723 - accuracy: 0.8562 - val_loss: 0.4091 - val_accuracy: 0.9178\n",
      "Epoch 19/100\n",
      "32/32 [==============================] - 1s 22ms/step - loss: 0.4450 - accuracy: 0.8836 - val_loss: 0.3985 - val_accuracy: 0.9087\n",
      "Epoch 20/100\n",
      "32/32 [==============================] - 1s 22ms/step - loss: 0.4434 - accuracy: 0.8845 - val_loss: 0.4534 - val_accuracy: 0.8676\n",
      "Epoch 21/100\n",
      "32/32 [==============================] - 1s 22ms/step - loss: 0.4508 - accuracy: 0.8669 - val_loss: 0.4070 - val_accuracy: 0.9087\n",
      "Epoch 22/100\n",
      "32/32 [==============================] - 1s 22ms/step - loss: 0.4514 - accuracy: 0.8796 - val_loss: 0.4036 - val_accuracy: 0.9132\n",
      "Epoch 23/100\n",
      "32/32 [==============================] - 1s 22ms/step - loss: 0.4444 - accuracy: 0.8845 - val_loss: 0.3858 - val_accuracy: 0.9132\n",
      "Epoch 24/100\n",
      "32/32 [==============================] - 1s 22ms/step - loss: 0.4386 - accuracy: 0.8826 - val_loss: 0.4258 - val_accuracy: 0.8813\n",
      "Epoch 25/100\n",
      "32/32 [==============================] - 1s 23ms/step - loss: 0.4499 - accuracy: 0.8738 - val_loss: 0.4086 - val_accuracy: 0.9132\n",
      "Epoch 26/100\n",
      "32/32 [==============================] - 1s 22ms/step - loss: 0.4431 - accuracy: 0.8787 - val_loss: 0.4156 - val_accuracy: 0.8950\n",
      "Epoch 27/100\n",
      "32/32 [==============================] - 1s 22ms/step - loss: 0.4671 - accuracy: 0.8630 - val_loss: 0.3925 - val_accuracy: 0.9224\n",
      "Epoch 28/100\n",
      "32/32 [==============================] - 1s 22ms/step - loss: 0.4327 - accuracy: 0.8885 - val_loss: 0.3856 - val_accuracy: 0.9132\n",
      "Epoch 29/100\n",
      "32/32 [==============================] - 1s 26ms/step - loss: 0.4381 - accuracy: 0.8767 - val_loss: 0.4115 - val_accuracy: 0.9132\n",
      "Epoch 30/100\n",
      "32/32 [==============================] - 1s 31ms/step - loss: 0.4567 - accuracy: 0.8796 - val_loss: 0.4092 - val_accuracy: 0.9087\n",
      "Epoch 31/100\n",
      "32/32 [==============================] - 1s 27ms/step - loss: 0.4385 - accuracy: 0.8855 - val_loss: 0.3938 - val_accuracy: 0.9132\n",
      "Epoch 32/100\n",
      "32/32 [==============================] - 1s 23ms/step - loss: 0.4487 - accuracy: 0.8787 - val_loss: 0.3848 - val_accuracy: 0.9132\n",
      "Epoch 33/100\n",
      "32/32 [==============================] - 1s 22ms/step - loss: 0.4405 - accuracy: 0.8728 - val_loss: 0.3908 - val_accuracy: 0.9178\n",
      "Epoch 34/100\n",
      "32/32 [==============================] - 1s 23ms/step - loss: 0.4439 - accuracy: 0.8836 - val_loss: 0.3818 - val_accuracy: 0.9087\n",
      "Epoch 35/100\n",
      "32/32 [==============================] - 1s 23ms/step - loss: 0.4485 - accuracy: 0.8767 - val_loss: 0.5016 - val_accuracy: 0.8493\n",
      "Epoch 36/100\n",
      "32/32 [==============================] - 1s 22ms/step - loss: 0.4715 - accuracy: 0.8728 - val_loss: 0.3847 - val_accuracy: 0.9178\n",
      "Epoch 37/100\n",
      "32/32 [==============================] - 1s 22ms/step - loss: 0.4424 - accuracy: 0.8806 - val_loss: 0.3927 - val_accuracy: 0.9132\n",
      "Epoch 38/100\n",
      "32/32 [==============================] - 1s 23ms/step - loss: 0.4331 - accuracy: 0.8855 - val_loss: 0.3973 - val_accuracy: 0.9132\n",
      "Epoch 39/100\n",
      "32/32 [==============================] - 1s 23ms/step - loss: 0.4491 - accuracy: 0.8738 - val_loss: 0.4050 - val_accuracy: 0.9041\n",
      "Epoch 40/100\n",
      "32/32 [==============================] - 1s 22ms/step - loss: 0.4556 - accuracy: 0.8806 - val_loss: 0.4429 - val_accuracy: 0.8813\n",
      "Epoch 41/100\n",
      "32/32 [==============================] - 1s 22ms/step - loss: 0.4849 - accuracy: 0.8474 - val_loss: 0.4715 - val_accuracy: 0.8767\n",
      "Epoch 42/100\n",
      "32/32 [==============================] - 1s 22ms/step - loss: 0.4576 - accuracy: 0.8757 - val_loss: 0.4027 - val_accuracy: 0.9132\n",
      "Epoch 43/100\n",
      "32/32 [==============================] - 1s 22ms/step - loss: 0.4347 - accuracy: 0.8982 - val_loss: 0.3832 - val_accuracy: 0.9132\n",
      "Epoch 44/100\n",
      "32/32 [==============================] - 1s 22ms/step - loss: 0.4370 - accuracy: 0.8748 - val_loss: 0.3952 - val_accuracy: 0.9132\n",
      "Epoch 45/100\n",
      "32/32 [==============================] - 1s 23ms/step - loss: 0.4531 - accuracy: 0.8777 - val_loss: 0.3863 - val_accuracy: 0.9178\n",
      "Epoch 46/100\n",
      "32/32 [==============================] - 1s 22ms/step - loss: 0.4380 - accuracy: 0.8748 - val_loss: 0.3965 - val_accuracy: 0.9132\n",
      "Epoch 47/100\n",
      "32/32 [==============================] - 1s 22ms/step - loss: 0.4486 - accuracy: 0.8777 - val_loss: 0.3833 - val_accuracy: 0.9087\n",
      "Epoch 48/100\n",
      "32/32 [==============================] - 1s 22ms/step - loss: 0.4306 - accuracy: 0.8845 - val_loss: 0.3847 - val_accuracy: 0.9178\n",
      "Epoch 49/100\n",
      "32/32 [==============================] - 1s 23ms/step - loss: 0.4424 - accuracy: 0.8748 - val_loss: 0.3818 - val_accuracy: 0.9178\n",
      "Epoch 50/100\n",
      "32/32 [==============================] - 1s 22ms/step - loss: 0.4512 - accuracy: 0.8806 - val_loss: 0.3858 - val_accuracy: 0.9178\n",
      "Epoch 51/100\n",
      "32/32 [==============================] - 1s 22ms/step - loss: 0.4456 - accuracy: 0.8806 - val_loss: 0.3832 - val_accuracy: 0.9132\n",
      "Epoch 52/100\n",
      "32/32 [==============================] - 1s 22ms/step - loss: 0.4513 - accuracy: 0.8767 - val_loss: 0.3884 - val_accuracy: 0.9132\n",
      "Epoch 53/100\n",
      "32/32 [==============================] - 1s 23ms/step - loss: 0.4403 - accuracy: 0.8787 - val_loss: 0.4044 - val_accuracy: 0.8950\n",
      "Epoch 54/100\n",
      "32/32 [==============================] - 1s 23ms/step - loss: 0.4490 - accuracy: 0.8728 - val_loss: 0.3941 - val_accuracy: 0.9178\n",
      "Epoch 55/100\n",
      "32/32 [==============================] - 1s 22ms/step - loss: 0.4401 - accuracy: 0.8836 - val_loss: 0.4027 - val_accuracy: 0.9041\n",
      "Epoch 56/100\n",
      "32/32 [==============================] - 1s 24ms/step - loss: 0.4504 - accuracy: 0.8816 - val_loss: 0.4010 - val_accuracy: 0.9087\n",
      "Epoch 57/100\n",
      "32/32 [==============================] - 1s 22ms/step - loss: 0.4362 - accuracy: 0.8875 - val_loss: 0.3799 - val_accuracy: 0.9224\n",
      "Epoch 58/100\n",
      "32/32 [==============================] - 1s 22ms/step - loss: 0.4330 - accuracy: 0.8806 - val_loss: 0.3820 - val_accuracy: 0.9178\n",
      "Epoch 59/100\n",
      "32/32 [==============================] - 1s 22ms/step - loss: 0.4307 - accuracy: 0.8816 - val_loss: 0.3807 - val_accuracy: 0.9087\n",
      "Epoch 60/100\n",
      "32/32 [==============================] - 1s 23ms/step - loss: 0.4336 - accuracy: 0.8875 - val_loss: 0.3797 - val_accuracy: 0.9132\n",
      "Epoch 61/100\n",
      "32/32 [==============================] - 1s 22ms/step - loss: 0.4418 - accuracy: 0.8885 - val_loss: 0.3808 - val_accuracy: 0.9132\n",
      "Epoch 62/100\n",
      "32/32 [==============================] - 1s 22ms/step - loss: 0.4378 - accuracy: 0.8855 - val_loss: 0.4194 - val_accuracy: 0.8858\n",
      "Epoch 63/100\n",
      "32/32 [==============================] - 1s 22ms/step - loss: 0.4338 - accuracy: 0.8885 - val_loss: 0.4182 - val_accuracy: 0.8858\n",
      "Epoch 64/100\n",
      "32/32 [==============================] - 1s 22ms/step - loss: 0.4372 - accuracy: 0.8875 - val_loss: 0.4021 - val_accuracy: 0.8995\n",
      "Epoch 65/100\n",
      "32/32 [==============================] - 1s 22ms/step - loss: 0.4260 - accuracy: 0.8806 - val_loss: 0.3855 - val_accuracy: 0.9178\n",
      "Epoch 66/100\n",
      "32/32 [==============================] - 1s 22ms/step - loss: 0.4417 - accuracy: 0.8826 - val_loss: 0.3847 - val_accuracy: 0.9178\n",
      "Epoch 67/100\n",
      "32/32 [==============================] - 1s 23ms/step - loss: 0.4335 - accuracy: 0.8855 - val_loss: 0.3904 - val_accuracy: 0.9087\n",
      "Epoch 68/100\n",
      "32/32 [==============================] - 1s 24ms/step - loss: 0.4241 - accuracy: 0.9012 - val_loss: 0.3813 - val_accuracy: 0.9132\n",
      "Epoch 69/100\n",
      "32/32 [==============================] - 1s 22ms/step - loss: 0.4391 - accuracy: 0.8836 - val_loss: 0.3962 - val_accuracy: 0.9132\n",
      "Epoch 70/100\n",
      "32/32 [==============================] - 1s 28ms/step - loss: 0.4323 - accuracy: 0.8865 - val_loss: 0.3927 - val_accuracy: 0.9041\n",
      "Epoch 71/100\n",
      "32/32 [==============================] - 1s 30ms/step - loss: 0.4328 - accuracy: 0.8806 - val_loss: 0.3853 - val_accuracy: 0.9178\n",
      "Epoch 72/100\n",
      "32/32 [==============================] - 1s 23ms/step - loss: 0.4263 - accuracy: 0.8963 - val_loss: 0.3791 - val_accuracy: 0.9132\n",
      "Epoch 73/100\n",
      "32/32 [==============================] - 1s 22ms/step - loss: 0.4438 - accuracy: 0.8894 - val_loss: 0.3933 - val_accuracy: 0.9132\n",
      "Epoch 74/100\n",
      "32/32 [==============================] - 1s 22ms/step - loss: 0.4770 - accuracy: 0.8601 - val_loss: 0.3880 - val_accuracy: 0.9178\n",
      "Epoch 75/100\n",
      "32/32 [==============================] - 1s 22ms/step - loss: 0.4368 - accuracy: 0.8806 - val_loss: 0.3830 - val_accuracy: 0.9178\n",
      "Epoch 76/100\n",
      "32/32 [==============================] - 1s 23ms/step - loss: 0.4262 - accuracy: 0.8855 - val_loss: 0.3825 - val_accuracy: 0.9132\n",
      "Epoch 77/100\n",
      "32/32 [==============================] - 1s 22ms/step - loss: 0.4441 - accuracy: 0.8777 - val_loss: 0.3800 - val_accuracy: 0.9178\n",
      "Epoch 78/100\n",
      "32/32 [==============================] - 1s 23ms/step - loss: 0.4404 - accuracy: 0.8806 - val_loss: 0.3952 - val_accuracy: 0.9132\n",
      "Epoch 79/100\n",
      "32/32 [==============================] - 1s 23ms/step - loss: 0.4338 - accuracy: 0.8836 - val_loss: 0.3861 - val_accuracy: 0.9178\n",
      "Epoch 80/100\n",
      "32/32 [==============================] - 1s 22ms/step - loss: 0.4359 - accuracy: 0.8806 - val_loss: 0.3816 - val_accuracy: 0.9132\n",
      "Epoch 81/100\n",
      "32/32 [==============================] - 1s 23ms/step - loss: 0.4253 - accuracy: 0.8894 - val_loss: 0.3843 - val_accuracy: 0.9178\n",
      "Epoch 82/100\n",
      "32/32 [==============================] - 1s 22ms/step - loss: 0.4266 - accuracy: 0.8816 - val_loss: 0.3883 - val_accuracy: 0.9224\n",
      "Epoch 83/100\n",
      "32/32 [==============================] - 1s 22ms/step - loss: 0.4363 - accuracy: 0.8806 - val_loss: 0.5492 - val_accuracy: 0.7763\n",
      "Epoch 84/100\n",
      "32/32 [==============================] - 1s 22ms/step - loss: 0.4654 - accuracy: 0.8699 - val_loss: 0.4064 - val_accuracy: 0.8950\n",
      "Epoch 85/100\n",
      "32/32 [==============================] - 1s 22ms/step - loss: 0.4394 - accuracy: 0.8865 - val_loss: 0.4215 - val_accuracy: 0.8813\n",
      "Epoch 86/100\n",
      "32/32 [==============================] - 1s 22ms/step - loss: 0.4406 - accuracy: 0.8816 - val_loss: 0.3800 - val_accuracy: 0.9132\n",
      "Epoch 87/100\n",
      "32/32 [==============================] - 1s 22ms/step - loss: 0.4444 - accuracy: 0.8699 - val_loss: 0.3791 - val_accuracy: 0.9178\n",
      "Epoch 88/100\n",
      "32/32 [==============================] - 1s 22ms/step - loss: 0.4342 - accuracy: 0.8767 - val_loss: 0.4004 - val_accuracy: 0.9041\n",
      "Epoch 89/100\n",
      "32/32 [==============================] - 1s 22ms/step - loss: 0.4304 - accuracy: 0.8885 - val_loss: 0.3807 - val_accuracy: 0.9178\n",
      "Epoch 90/100\n",
      "32/32 [==============================] - 1s 22ms/step - loss: 0.4368 - accuracy: 0.8806 - val_loss: 0.3857 - val_accuracy: 0.9132\n",
      "Epoch 91/100\n",
      "32/32 [==============================] - 1s 22ms/step - loss: 0.4232 - accuracy: 0.8806 - val_loss: 0.5238 - val_accuracy: 0.8447\n",
      "Epoch 92/100\n",
      "32/32 [==============================] - 1s 22ms/step - loss: 0.4810 - accuracy: 0.8669 - val_loss: 0.3862 - val_accuracy: 0.9178\n",
      "Epoch 93/100\n",
      "32/32 [==============================] - 1s 22ms/step - loss: 0.4233 - accuracy: 0.8914 - val_loss: 0.3774 - val_accuracy: 0.9087\n",
      "Epoch 94/100\n",
      "32/32 [==============================] - 1s 22ms/step - loss: 0.4310 - accuracy: 0.8816 - val_loss: 0.3846 - val_accuracy: 0.9132\n",
      "Epoch 95/100\n",
      "32/32 [==============================] - 1s 22ms/step - loss: 0.4401 - accuracy: 0.8855 - val_loss: 0.3791 - val_accuracy: 0.9087\n",
      "Epoch 96/100\n",
      "32/32 [==============================] - 1s 22ms/step - loss: 0.4375 - accuracy: 0.8806 - val_loss: 0.3846 - val_accuracy: 0.9178\n",
      "Epoch 97/100\n",
      "32/32 [==============================] - 1s 22ms/step - loss: 0.4351 - accuracy: 0.8787 - val_loss: 0.3930 - val_accuracy: 0.9132\n",
      "Epoch 98/100\n",
      "32/32 [==============================] - 1s 22ms/step - loss: 0.4309 - accuracy: 0.8855 - val_loss: 0.4150 - val_accuracy: 0.8904\n",
      "Epoch 99/100\n",
      "32/32 [==============================] - 1s 22ms/step - loss: 0.4375 - accuracy: 0.8767 - val_loss: 0.3836 - val_accuracy: 0.9132\n",
      "Epoch 100/100\n",
      "32/32 [==============================] - 1s 22ms/step - loss: 0.4452 - accuracy: 0.8728 - val_loss: 0.4066 - val_accuracy: 0.9041\n"
     ]
    }
   ],
   "source": [
    "model_3.compile(optimizer='adam',\n",
    "              loss='binary_crossentropy',\n",
    "              metrics=['accuracy'])\n",
    "hist_3 = model_3.fit(X_train, Y_train,\n",
    "          batch_size=32, epochs=100,\n",
    "          validation_data=(X_val, Y_val))"
   ]
  },
  {
   "cell_type": "markdown",
   "metadata": {},
   "source": [
    "We'll now plot the loss and accuracy graphs for Model 3. You'll notice that the loss is a lot higher at the start, and that's because we've changed our loss function. To plot such that the window is zoomed in between 0 and 1.2 for the loss, we add an additional line of code (plt.ylim) when plotting"
   ]
  },
  {
   "cell_type": "code",
   "execution_count": 48,
   "metadata": {
    "ExecuteTime": {
     "end_time": "2020-06-16T16:26:05.949596Z",
     "start_time": "2020-06-16T16:26:05.825300Z"
    }
   },
   "outputs": [
    {
     "data": {
      "image/png": "[encoded data removed]",
      "text/plain": [
       "<Figure size 432x288 with 1 Axes>"
      ]
     },
     "metadata": {
      "needs_background": "light"
     },
     "output_type": "display_data"
    }
   ],
   "source": [
    "plt.plot(hist_3.history['loss'])\n",
    "plt.plot(hist_3.history['val_loss'])\n",
    "plt.title('Model loss')\n",
    "plt.ylabel('Loss')\n",
    "plt.xlabel('Epoch')\n",
    "plt.legend(['Train', 'Val'], loc='upper right')\n",
    "plt.ylim(top=1.2, bottom=0)\n",
    "plt.show()"
   ]
  },
  {
   "cell_type": "code",
   "execution_count": 49,
   "metadata": {
    "ExecuteTime": {
     "end_time": "2020-06-16T16:26:06.115636Z",
     "start_time": "2020-06-16T16:26:05.975704Z"
    }
   },
   "outputs": [
    {
     "data": {
      "image/png": "[encoded data removed]",
      "text/plain": [
       "<Figure size 432x288 with 1 Axes>"
      ]
     },
     "metadata": {
      "needs_background": "light"
     },
     "output_type": "display_data"
    }
   ],
   "source": [
    "plt.plot(hist_3.history['accuracy'])\n",
    "plt.plot(hist_3.history['val_accuracy'])\n",
    "plt.title('Model accuracy')\n",
    "plt.ylabel('Accuracy')\n",
    "plt.xlabel('Epoch')\n",
    "plt.legend(['Train', 'Val'], loc='lower right')\n",
    "plt.show()"
   ]
  },
  {
   "cell_type": "markdown",
   "metadata": {},
   "source": [
    "As compared to Model 2, you should see that there's less overfitting!"
   ]
  }
 ],
 "metadata": {
  "kernelspec": {
   "display_name": "Python 3",
   "language": "python",
   "name": "python3"
  },
  "language_info": {
   "codemirror_mode": {
    "name": "ipython",
    "version": 3
   },
   "file_extension": ".py",
   "mimetype": "text/x-python",
   "name": "python",
   "nbconvert_exporter": "python",
   "pygments_lexer": "ipython3",
   "version": "3.7.6"
  },
  "toc": {
   "base_numbering": 1,
   "nav_menu": {},
   "number_sections": true,
   "sideBar": true,
   "skip_h1_title": false,
   "title_cell": "Table of Contents",
   "title_sidebar": "Contents",
   "toc_cell": false,
   "toc_position": {},
   "toc_section_display": true,
   "toc_window_display": true
  },
  "varInspector": {
   "cols": {
    "lenName": 16,
    "lenType": 16,
    "lenVar": 40
   },
   "kernels_config": {
    "python": {
     "delete_cmd_postfix": "",
     "delete_cmd_prefix": "del ",
     "library": "var_list.py",
     "varRefreshCmd": "print(var_dic_list())"
    },
    "r": {
     "delete_cmd_postfix": ") ",
     "delete_cmd_prefix": "rm(",
     "library": "var_list.r",
     "varRefreshCmd": "cat(var_dic_list()) "
    }
   },
   "types_to_exclude": [
    "module",
    "function",
    "builtin_function_or_method",
    "instance",
    "_Feature"
   ],
   "window_display": false
  }
 },
 "nbformat": 4,
 "nbformat_minor": 2
}
