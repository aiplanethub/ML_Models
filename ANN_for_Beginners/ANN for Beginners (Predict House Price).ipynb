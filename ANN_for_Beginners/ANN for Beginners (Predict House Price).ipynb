{
 "cells": [
  {
   "cell_type": "markdown",
   "metadata": {},
   "source": [
    "# Artificial Neural Network for Beginners"
   ]
  },
  {
   "cell_type": "markdown",
   "metadata": {},
   "source": [
    "In this notebook, we'll go through the code to create your very first neural network to <span class=\"mark\">predict whether the house price is below or above median value</span>. We will go through the following in this notebook:\n",
    "\n",
    "- Exploring and Processing the Data\n",
    "- Building and Training our Neural Network\n",
    "- Visualizing Loss and Accuracy\n",
    "- Adding Regularization to our Neural Network\n",
    "\n",
    "The code is annotated throughout the notebook and you simply need to download the dataset [here](https://drive.google.com/file/d/1GfvKA0qznNVknghV4botnNxyH-KvODOC/view), put the dataset in the same folder as this notebook and run the code cells below or you may use the github raw file given in the notebook below. Note that the results you get might differ slightly as there is a degree of randomness in the way we split our dataset as well as the initialization of our neural network."
   ]
  },
  {
   "cell_type": "markdown",
   "metadata": {},
   "source": [
    "# Exploring and Processing the Data"
   ]
  },
  {
   "cell_type": "markdown",
   "metadata": {},
   "source": [
    "We first have to read in the CSV file that we've been given. We'll use a package called pandas for that:"
   ]
  },
  {
   "cell_type": "code",
   "execution_count": 1,
   "metadata": {
    "ExecuteTime": {
     "end_time": "2020-06-16T16:09:47.516686Z",
     "start_time": "2020-06-16T16:09:47.111029Z"
    }
   },
   "outputs": [],
   "source": [
    "import pandas as pd"
   ]
  },
  {
   "cell_type": "code",
   "execution_count": 2,
   "metadata": {
    "ExecuteTime": {
     "end_time": "2020-06-16T16:09:48.029425Z",
     "start_time": "2020-06-16T16:09:48.022364Z"
    }
   },
   "outputs": [],
   "source": [
    "df = pd.read_csv('https://raw.githubusercontent.com/dphi-official/Datasets/master/housepricedata.csv')"
   ]
  },
  {
   "cell_type": "code",
   "execution_count": 3,
   "metadata": {
    "ExecuteTime": {
     "end_time": "2020-06-16T16:09:49.092819Z",
     "start_time": "2020-06-16T16:09:49.078441Z"
    },
    "scrolled": true
   },
   "outputs": [
    {
     "data": {
      "text/html": [
       "<div>\n",
       "<style scoped>\n",
       "    .dataframe tbody tr th:only-of-type {\n",
       "        vertical-align: middle;\n",
       "    }\n",
       "\n",
       "    .dataframe tbody tr th {\n",
       "        vertical-align: top;\n",
       "    }\n",
       "\n",
       "    .dataframe thead th {\n",
       "        text-align: right;\n",
       "    }\n",
       "</style>\n",
       "<table border=\"1\" class=\"dataframe\">\n",
       "  <thead>\n",
       "    <tr style=\"text-align: right;\">\n",
       "      <th></th>\n",
       "      <th>LotArea</th>\n",
       "      <th>OverallQual</th>\n",
       "      <th>OverallCond</th>\n",
       "      <th>TotalBsmtSF</th>\n",
       "      <th>FullBath</th>\n",
       "      <th>HalfBath</th>\n",
       "      <th>BedroomAbvGr</th>\n",
       "      <th>TotRmsAbvGrd</th>\n",
       "      <th>Fireplaces</th>\n",
       "      <th>GarageArea</th>\n",
       "      <th>AboveMedianPrice</th>\n",
       "    </tr>\n",
       "  </thead>\n",
       "  <tbody>\n",
       "    <tr>\n",
       "      <th>0</th>\n",
       "      <td>8450</td>\n",
       "      <td>7</td>\n",
       "      <td>5</td>\n",
       "      <td>856</td>\n",
       "      <td>2</td>\n",
       "      <td>1</td>\n",
       "      <td>3</td>\n",
       "      <td>8</td>\n",
       "      <td>0</td>\n",
       "      <td>548</td>\n",
       "      <td>1</td>\n",
       "    </tr>\n",
       "    <tr>\n",
       "      <th>1</th>\n",
       "      <td>9600</td>\n",
       "      <td>6</td>\n",
       "      <td>8</td>\n",
       "      <td>1262</td>\n",
       "      <td>2</td>\n",
       "      <td>0</td>\n",
       "      <td>3</td>\n",
       "      <td>6</td>\n",
       "      <td>1</td>\n",
       "      <td>460</td>\n",
       "      <td>1</td>\n",
       "    </tr>\n",
       "    <tr>\n",
       "      <th>2</th>\n",
       "      <td>11250</td>\n",
       "      <td>7</td>\n",
       "      <td>5</td>\n",
       "      <td>920</td>\n",
       "      <td>2</td>\n",
       "      <td>1</td>\n",
       "      <td>3</td>\n",
       "      <td>6</td>\n",
       "      <td>1</td>\n",
       "      <td>608</td>\n",
       "      <td>1</td>\n",
       "    </tr>\n",
       "    <tr>\n",
       "      <th>3</th>\n",
       "      <td>9550</td>\n",
       "      <td>7</td>\n",
       "      <td>5</td>\n",
       "      <td>756</td>\n",
       "      <td>1</td>\n",
       "      <td>0</td>\n",
       "      <td>3</td>\n",
       "      <td>7</td>\n",
       "      <td>1</td>\n",
       "      <td>642</td>\n",
       "      <td>0</td>\n",
       "    </tr>\n",
       "    <tr>\n",
       "      <th>4</th>\n",
       "      <td>14260</td>\n",
       "      <td>8</td>\n",
       "      <td>5</td>\n",
       "      <td>1145</td>\n",
       "      <td>2</td>\n",
       "      <td>1</td>\n",
       "      <td>4</td>\n",
       "      <td>9</td>\n",
       "      <td>1</td>\n",
       "      <td>836</td>\n",
       "      <td>1</td>\n",
       "    </tr>\n",
       "    <tr>\n",
       "      <th>...</th>\n",
       "      <td>...</td>\n",
       "      <td>...</td>\n",
       "      <td>...</td>\n",
       "      <td>...</td>\n",
       "      <td>...</td>\n",
       "      <td>...</td>\n",
       "      <td>...</td>\n",
       "      <td>...</td>\n",
       "      <td>...</td>\n",
       "      <td>...</td>\n",
       "      <td>...</td>\n",
       "    </tr>\n",
       "    <tr>\n",
       "      <th>1455</th>\n",
       "      <td>7917</td>\n",
       "      <td>6</td>\n",
       "      <td>5</td>\n",
       "      <td>953</td>\n",
       "      <td>2</td>\n",
       "      <td>1</td>\n",
       "      <td>3</td>\n",
       "      <td>7</td>\n",
       "      <td>1</td>\n",
       "      <td>460</td>\n",
       "      <td>1</td>\n",
       "    </tr>\n",
       "    <tr>\n",
       "      <th>1456</th>\n",
       "      <td>13175</td>\n",
       "      <td>6</td>\n",
       "      <td>6</td>\n",
       "      <td>1542</td>\n",
       "      <td>2</td>\n",
       "      <td>0</td>\n",
       "      <td>3</td>\n",
       "      <td>7</td>\n",
       "      <td>2</td>\n",
       "      <td>500</td>\n",
       "      <td>1</td>\n",
       "    </tr>\n",
       "    <tr>\n",
       "      <th>1457</th>\n",
       "      <td>9042</td>\n",
       "      <td>7</td>\n",
       "      <td>9</td>\n",
       "      <td>1152</td>\n",
       "      <td>2</td>\n",
       "      <td>0</td>\n",
       "      <td>4</td>\n",
       "      <td>9</td>\n",
       "      <td>2</td>\n",
       "      <td>252</td>\n",
       "      <td>1</td>\n",
       "    </tr>\n",
       "    <tr>\n",
       "      <th>1458</th>\n",
       "      <td>9717</td>\n",
       "      <td>5</td>\n",
       "      <td>6</td>\n",
       "      <td>1078</td>\n",
       "      <td>1</td>\n",
       "      <td>0</td>\n",
       "      <td>2</td>\n",
       "      <td>5</td>\n",
       "      <td>0</td>\n",
       "      <td>240</td>\n",
       "      <td>0</td>\n",
       "    </tr>\n",
       "    <tr>\n",
       "      <th>1459</th>\n",
       "      <td>9937</td>\n",
       "      <td>5</td>\n",
       "      <td>6</td>\n",
       "      <td>1256</td>\n",
       "      <td>1</td>\n",
       "      <td>1</td>\n",
       "      <td>3</td>\n",
       "      <td>6</td>\n",
       "      <td>0</td>\n",
       "      <td>276</td>\n",
       "      <td>0</td>\n",
       "    </tr>\n",
       "  </tbody>\n",
       "</table>\n",
       "<p>1460 rows × 11 columns</p>\n",
       "</div>"
      ],
      "text/plain": [
       "      LotArea  OverallQual  OverallCond  TotalBsmtSF  FullBath  HalfBath  \\\n",
       "0        8450            7            5          856         2         1   \n",
       "1        9600            6            8         1262         2         0   \n",
       "2       11250            7            5          920         2         1   \n",
       "3        9550            7            5          756         1         0   \n",
       "4       14260            8            5         1145         2         1   \n",
       "...       ...          ...          ...          ...       ...       ...   \n",
       "1455     7917            6            5          953         2         1   \n",
       "1456    13175            6            6         1542         2         0   \n",
       "1457     9042            7            9         1152         2         0   \n",
       "1458     9717            5            6         1078         1         0   \n",
       "1459     9937            5            6         1256         1         1   \n",
       "\n",
       "      BedroomAbvGr  TotRmsAbvGrd  Fireplaces  GarageArea  AboveMedianPrice  \n",
       "0                3             8           0         548                 1  \n",
       "1                3             6           1         460                 1  \n",
       "2                3             6           1         608                 1  \n",
       "3                3             7           1         642                 0  \n",
       "4                4             9           1         836                 1  \n",
       "...            ...           ...         ...         ...               ...  \n",
       "1455             3             7           1         460                 1  \n",
       "1456             3             7           2         500                 1  \n",
       "1457             4             9           2         252                 1  \n",
       "1458             2             5           0         240                 0  \n",
       "1459             3             6           0         276                 0  \n",
       "\n",
       "[1460 rows x 11 columns]"
      ]
     },
     "execution_count": 3,
     "metadata": {},
     "output_type": "execute_result"
    }
   ],
   "source": [
    "df"
   ]
  },
  {
   "cell_type": "markdown",
   "metadata": {},
   "source": [
    "The dataset that we have now is in what we call a pandas dataframe. To convert it to an array, simply access its values:"
   ]
  },
  {
   "cell_type": "code",
   "execution_count": 4,
   "metadata": {
    "ExecuteTime": {
     "end_time": "2020-06-16T16:10:44.855057Z",
     "start_time": "2020-06-16T16:10:44.852607Z"
    }
   },
   "outputs": [],
   "source": [
    "dataset = df.values"
   ]
  },
  {
   "cell_type": "code",
   "execution_count": 5,
   "metadata": {
    "ExecuteTime": {
     "end_time": "2020-06-16T16:10:45.668296Z",
     "start_time": "2020-06-16T16:10:45.664574Z"
    }
   },
   "outputs": [
    {
     "data": {
      "text/plain": [
       "array([[ 8450,     7,     5, ...,     0,   548,     1],\n",
       "       [ 9600,     6,     8, ...,     1,   460,     1],\n",
       "       [11250,     7,     5, ...,     1,   608,     1],\n",
       "       ...,\n",
       "       [ 9042,     7,     9, ...,     2,   252,     1],\n",
       "       [ 9717,     5,     6, ...,     0,   240,     0],\n",
       "       [ 9937,     5,     6, ...,     0,   276,     0]], dtype=int64)"
      ]
     },
     "execution_count": 5,
     "metadata": {},
     "output_type": "execute_result"
    }
   ],
   "source": [
    "dataset"
   ]
  },
  {
   "cell_type": "markdown",
   "metadata": {},
   "source": [
    "Now, we split the dataset into our input features and the label we wish to predict."
   ]
  },
  {
   "cell_type": "code",
   "execution_count": 6,
   "metadata": {
    "ExecuteTime": {
     "end_time": "2020-06-16T16:10:46.995675Z",
     "start_time": "2020-06-16T16:10:46.992894Z"
    }
   },
   "outputs": [],
   "source": [
    "X = dataset[:,0:10]\n",
    "Y = dataset[:,10]"
   ]
  },
  {
   "cell_type": "markdown",
   "metadata": {},
   "source": [
    "Normalizing our data is very important, as we want the input features to be on the same order of magnitude to make our training easier. We'll use a min-max scaler from scikit-learn which scales our data to be between 0 and 1."
   ]
  },
  {
   "cell_type": "code",
   "execution_count": 7,
   "metadata": {
    "ExecuteTime": {
     "end_time": "2020-06-16T16:10:51.909448Z",
     "start_time": "2020-06-16T16:10:49.654766Z"
    }
   },
   "outputs": [],
   "source": [
    "from sklearn import preprocessing"
   ]
  },
  {
   "cell_type": "code",
   "execution_count": 8,
   "metadata": {
    "ExecuteTime": {
     "end_time": "2020-06-16T16:10:53.376932Z",
     "start_time": "2020-06-16T16:10:53.373614Z"
    }
   },
   "outputs": [],
   "source": [
    "min_max_scaler = preprocessing.MinMaxScaler()\n",
    "X_scale = min_max_scaler.fit_transform(X)"
   ]
  },
  {
   "cell_type": "code",
   "execution_count": 9,
   "metadata": {
    "ExecuteTime": {
     "end_time": "2020-06-16T16:10:53.650962Z",
     "start_time": "2020-06-16T16:10:53.646873Z"
    }
   },
   "outputs": [
    {
     "data": {
      "text/plain": [
       "array([[0.0334198 , 0.66666667, 0.5       , ..., 0.5       , 0.        ,\n",
       "        0.3864598 ],\n",
       "       [0.03879502, 0.55555556, 0.875     , ..., 0.33333333, 0.33333333,\n",
       "        0.32440056],\n",
       "       [0.04650728, 0.66666667, 0.5       , ..., 0.33333333, 0.33333333,\n",
       "        0.42877292],\n",
       "       ...,\n",
       "       [0.03618687, 0.66666667, 1.        , ..., 0.58333333, 0.66666667,\n",
       "        0.17771509],\n",
       "       [0.03934189, 0.44444444, 0.625     , ..., 0.25      , 0.        ,\n",
       "        0.16925247],\n",
       "       [0.04037019, 0.44444444, 0.625     , ..., 0.33333333, 0.        ,\n",
       "        0.19464034]])"
      ]
     },
     "execution_count": 9,
     "metadata": {},
     "output_type": "execute_result"
    }
   ],
   "source": [
    "X_scale"
   ]
  },
  {
   "cell_type": "markdown",
   "metadata": {},
   "source": [
    "Lastly, we wish to set aside some parts of our dataset for a validation set and a test set. We use the function train_test_split from scikit-learn to do that."
   ]
  },
  {
   "cell_type": "code",
   "execution_count": 10,
   "metadata": {
    "ExecuteTime": {
     "end_time": "2020-06-16T16:10:58.154952Z",
     "start_time": "2020-06-16T16:10:55.363926Z"
    }
   },
   "outputs": [],
   "source": [
    "from sklearn.model_selection import train_test_split"
   ]
  },
  {
   "cell_type": "code",
   "execution_count": 11,
   "metadata": {
    "ExecuteTime": {
     "end_time": "2020-06-16T16:10:58.184749Z",
     "start_time": "2020-06-16T16:10:58.181110Z"
    }
   },
   "outputs": [],
   "source": [
    "X_train, X_val_and_test, Y_train, Y_val_and_test = train_test_split(X_scale, Y, test_size=0.3)"
   ]
  },
  {
   "cell_type": "code",
   "execution_count": 12,
   "metadata": {
    "ExecuteTime": {
     "end_time": "2020-06-16T16:10:58.216082Z",
     "start_time": "2020-06-16T16:10:58.212374Z"
    }
   },
   "outputs": [],
   "source": [
    "X_val, X_test, Y_val, Y_test = train_test_split(X_val_and_test, Y_val_and_test, test_size=0.5)"
   ]
  },
  {
   "cell_type": "code",
   "execution_count": 13,
   "metadata": {
    "ExecuteTime": {
     "end_time": "2020-06-16T16:10:58.251601Z",
     "start_time": "2020-06-16T16:10:58.248348Z"
    }
   },
   "outputs": [
    {
     "name": "stdout",
     "output_type": "stream",
     "text": [
      "(1022, 10) (219, 10) (219, 10) (1022,) (219,) (219,)\n"
     ]
    }
   ],
   "source": [
    "print(X_train.shape, X_val.shape, X_test.shape, Y_train.shape, Y_val.shape, Y_test.shape)"
   ]
  },
  {
   "cell_type": "markdown",
   "metadata": {},
   "source": [
    "# Building and Training Our First Neural Network"
   ]
  },
  {
   "cell_type": "markdown",
   "metadata": {},
   "source": [
    "We will be using Keras to build our architecture. Let's import the code from Keras that we will need to use:"
   ]
  },
  {
   "cell_type": "code",
   "execution_count": 15,
   "metadata": {
    "scrolled": true
   },
   "outputs": [
    {
     "name": "stdout",
     "output_type": "stream",
     "text": [
      "Collecting tensorflow\n",
      "  Downloading tensorflow-2.2.0-cp37-cp37m-win_amd64.whl (459.2 MB)\n",
      "Collecting absl-py>=0.7.0\n",
      "  Downloading absl-py-0.9.0.tar.gz (104 kB)\n",
      "Collecting astunparse==1.6.3\n",
      "  Downloading astunparse-1.6.3-py2.py3-none-any.whl (12 kB)\n",
      "Requirement already satisfied: numpy<2.0,>=1.16.0 in c:\\users\\chanukya\\anaconda3\\lib\\site-packages (from tensorflow) (1.18.1)\n",
      "Collecting opt-einsum>=2.3.2\n",
      "  Downloading opt_einsum-3.2.1-py3-none-any.whl (63 kB)\n",
      "Collecting grpcio>=1.8.6\n",
      "  Downloading grpcio-1.29.0-cp37-cp37m-win_amd64.whl (2.3 MB)\n",
      "Requirement already satisfied: h5py<2.11.0,>=2.10.0 in c:\\users\\chanukya\\anaconda3\\lib\\site-packages (from tensorflow) (2.10.0)\n",
      "Collecting tensorflow-estimator<2.3.0,>=2.2.0\n",
      "  Downloading tensorflow_estimator-2.2.0-py2.py3-none-any.whl (454 kB)\n",
      "Requirement already satisfied: scipy==1.4.1; python_version >= \"3\" in c:\\users\\chanukya\\anaconda3\\lib\\site-packages (from tensorflow) (1.4.1)\n",
      "Requirement already satisfied: wrapt>=1.11.1 in c:\\users\\chanukya\\anaconda3\\lib\\site-packages (from tensorflow) (1.11.2)\n",
      "Requirement already satisfied: six>=1.12.0 in c:\\users\\chanukya\\anaconda3\\lib\\site-packages (from tensorflow) (1.14.0)\n",
      "Requirement already satisfied: wheel>=0.26; python_version >= \"3\" in c:\\users\\chanukya\\anaconda3\\lib\\site-packages (from tensorflow) (0.34.2)\n",
      "Collecting protobuf>=3.8.0\n",
      "  Downloading protobuf-3.12.2-cp37-cp37m-win_amd64.whl (1.0 MB)\n",
      "Collecting termcolor>=1.1.0\n",
      "  Using cached termcolor-1.1.0.tar.gz (3.9 kB)\n",
      "Collecting gast==0.3.3\n",
      "  Downloading gast-0.3.3-py2.py3-none-any.whl (9.7 kB)\n",
      "Collecting tensorboard<2.3.0,>=2.2.0\n",
      "  Downloading tensorboard-2.2.2-py3-none-any.whl (3.0 MB)\n",
      "Collecting keras-preprocessing>=1.1.0\n",
      "  Downloading Keras_Preprocessing-1.1.2-py2.py3-none-any.whl (42 kB)\n",
      "Collecting google-pasta>=0.1.8\n",
      "  Downloading google_pasta-0.2.0-py3-none-any.whl (57 kB)\n",
      "Requirement already satisfied: setuptools in c:\\users\\chanukya\\anaconda3\\lib\\site-packages (from protobuf>=3.8.0->tensorflow) (45.2.0.post20200210)\n",
      "Collecting markdown>=2.6.8\n",
      "  Downloading Markdown-3.2.2-py3-none-any.whl (88 kB)\n",
      "Collecting google-auth<2,>=1.6.3\n",
      "  Downloading google_auth-1.18.0-py2.py3-none-any.whl (90 kB)\n",
      "Requirement already satisfied: werkzeug>=0.11.15 in c:\\users\\chanukya\\anaconda3\\lib\\site-packages (from tensorboard<2.3.0,>=2.2.0->tensorflow) (1.0.0)\n",
      "Requirement already satisfied: requests<3,>=2.21.0 in c:\\users\\chanukya\\anaconda3\\lib\\site-packages (from tensorboard<2.3.0,>=2.2.0->tensorflow) (2.22.0)\n",
      "Collecting google-auth-oauthlib<0.5,>=0.4.1\n",
      "  Downloading google_auth_oauthlib-0.4.1-py2.py3-none-any.whl (18 kB)\n",
      "Collecting tensorboard-plugin-wit>=1.6.0\n",
      "  Downloading tensorboard_plugin_wit-1.6.0.post3-py3-none-any.whl (777 kB)\n",
      "Requirement already satisfied: importlib-metadata; python_version < \"3.8\" in c:\\users\\chanukya\\anaconda3\\lib\\site-packages (from markdown>=2.6.8->tensorboard<2.3.0,>=2.2.0->tensorflow) (1.5.0)\n",
      "Collecting cachetools<5.0,>=2.0.0\n",
      "  Downloading cachetools-4.1.0-py3-none-any.whl (10 kB)\n",
      "Collecting rsa<5,>=3.1.4; python_version >= \"3\"\n",
      "  Downloading rsa-4.6-py3-none-any.whl (47 kB)\n",
      "Collecting pyasn1-modules>=0.2.1\n",
      "  Downloading pyasn1_modules-0.2.8-py2.py3-none-any.whl (155 kB)\n",
      "Requirement already satisfied: idna<2.9,>=2.5 in c:\\users\\chanukya\\anaconda3\\lib\\site-packages (from requests<3,>=2.21.0->tensorboard<2.3.0,>=2.2.0->tensorflow) (2.8)\n",
      "Requirement already satisfied: urllib3!=1.25.0,!=1.25.1,<1.26,>=1.21.1 in c:\\users\\chanukya\\anaconda3\\lib\\site-packages (from requests<3,>=2.21.0->tensorboard<2.3.0,>=2.2.0->tensorflow) (1.25.8)\n",
      "Requirement already satisfied: chardet<3.1.0,>=3.0.2 in c:\\users\\chanukya\\anaconda3\\lib\\site-packages (from requests<3,>=2.21.0->tensorboard<2.3.0,>=2.2.0->tensorflow) (3.0.4)\n",
      "Requirement already satisfied: certifi>=2017.4.17 in c:\\users\\chanukya\\anaconda3\\lib\\site-packages (from requests<3,>=2.21.0->tensorboard<2.3.0,>=2.2.0->tensorflow) (2020.4.5.1)\n",
      "Collecting requests-oauthlib>=0.7.0\n",
      "  Downloading requests_oauthlib-1.3.0-py2.py3-none-any.whl (23 kB)\n",
      "Requirement already satisfied: zipp>=0.5 in c:\\users\\chanukya\\anaconda3\\lib\\site-packages (from importlib-metadata; python_version < \"3.8\"->markdown>=2.6.8->tensorboard<2.3.0,>=2.2.0->tensorflow) (2.2.0)\n",
      "Collecting pyasn1>=0.1.3\n",
      "  Downloading pyasn1-0.4.8-py2.py3-none-any.whl (77 kB)\n",
      "Collecting oauthlib>=3.0.0\n",
      "  Downloading oauthlib-3.1.0-py2.py3-none-any.whl (147 kB)\n",
      "Building wheels for collected packages: absl-py, termcolor\n",
      "  Building wheel for absl-py (setup.py): started\n",
      "  Building wheel for absl-py (setup.py): finished with status 'done'\n",
      "  Created wheel for absl-py: filename=absl_py-0.9.0-py3-none-any.whl size=121935 sha256=4ff4b8fe85dfced106bf065eac44c3b1ca8f1adb4607d4b22c36943a91d2e7a0\n",
      "  Stored in directory: c:\\users\\chanukya\\appdata\\local\\pip\\cache\\wheels\\cc\\af\\1a\\498a24d0730ef484019e007bb9e8cef3ac00311a672c049a3e\n",
      "  Building wheel for termcolor (setup.py): started\n",
      "  Building wheel for termcolor (setup.py): finished with status 'done'\n",
      "  Created wheel for termcolor: filename=termcolor-1.1.0-py3-none-any.whl size=4835 sha256=61e1a79e7e8b29f270a790aa8c22c94fa6849300bbdb6d3770d526c53e4864e5\n",
      "  Stored in directory: c:\\users\\chanukya\\appdata\\local\\pip\\cache\\wheels\\3f\\e3\\ec\\8a8336ff196023622fbcb36de0c5a5c218cbb24111d1d4c7f2\n",
      "Successfully built absl-py termcolor\n",
      "Installing collected packages: absl-py, astunparse, opt-einsum, grpcio, tensorflow-estimator, protobuf, termcolor, gast, markdown, cachetools, pyasn1, rsa, pyasn1-modules, google-auth, oauthlib, requests-oauthlib, google-auth-oauthlib, tensorboard-plugin-wit, tensorboard, keras-preprocessing, google-pasta, tensorflow\n",
      "Successfully installed absl-py-0.9.0 astunparse-1.6.3 cachetools-4.1.0 gast-0.3.3 google-auth-1.18.0 google-auth-oauthlib-0.4.1 google-pasta-0.2.0 grpcio-1.29.0 keras-preprocessing-1.1.2 markdown-3.2.2 oauthlib-3.1.0 opt-einsum-3.2.1 protobuf-3.12.2 pyasn1-0.4.8 pyasn1-modules-0.2.8 requests-oauthlib-1.3.0 rsa-4.6 tensorboard-2.2.2 tensorboard-plugin-wit-1.6.0.post3 tensorflow-2.2.0 tensorflow-estimator-2.2.0 termcolor-1.1.0\n"
     ]
    }
   ],
   "source": [
    "!pip install tensorflow"
   ]
  },
  {
   "cell_type": "code",
   "execution_count": 16,
   "metadata": {
    "ExecuteTime": {
     "end_time": "2020-06-16T16:15:27.786058Z",
     "start_time": "2020-06-16T16:15:27.783646Z"
    }
   },
   "outputs": [],
   "source": [
    "import tensorflow as tf\n",
    "from tensorflow import keras"
   ]
  },
  {
   "cell_type": "code",
   "execution_count": 17,
   "metadata": {
    "ExecuteTime": {
     "end_time": "2020-06-16T16:15:39.336308Z",
     "start_time": "2020-06-16T16:15:39.333969Z"
    }
   },
   "outputs": [],
   "source": [
    "from tensorflow.keras import layers"
   ]
  },
  {
   "cell_type": "markdown",
   "metadata": {},
   "source": [
    "We will be using the Sequential model, which means that we merely need to describe the layers above in sequence. Our neural network has three layers:\n",
    "\n",
    "- Hidden layer 1: 32 neurons, ReLU activation\n",
    "- Hidden layer 2: 32 neurons, ReLU activation\n",
    "- Output Layer: 1 neuron, Sigmoid activation"
   ]
  },
  {
   "cell_type": "code",
   "execution_count": 18,
   "metadata": {
    "ExecuteTime": {
     "end_time": "2020-06-16T16:16:24.208233Z",
     "start_time": "2020-06-16T16:16:24.153952Z"
    }
   },
   "outputs": [],
   "source": [
    "model = tf.keras.Sequential([\n",
    "    layers.Dense(32, activation='relu', input_shape=(10,)),\n",
    "    layers.Dense(32, activation='relu'),\n",
    "    layers.Dense(1, activation='sigmoid'),\n",
    "])"
   ]
  },
  {
   "cell_type": "markdown",
   "metadata": {},
   "source": [
    "Now that we've got our architecture specified, we need to find the best numbers for it. Before we start our training, we have to configure the model by\n",
    "- Telling it what algorithm you want to use to do the optimization (we'll use stochastic gradient descent)\n",
    "- Telling it what loss function to use (for binary classification, we will use binary cross entropy)\n",
    "- Telling it what other metrics you want to track apart from the loss function (we want to track accuracy as well)\n",
    "\n",
    "We do so below:"
   ]
  },
  {
   "cell_type": "code",
   "execution_count": 19,
   "metadata": {
    "ExecuteTime": {
     "end_time": "2020-06-16T16:16:28.599400Z",
     "start_time": "2020-06-16T16:16:28.589787Z"
    }
   },
   "outputs": [],
   "source": [
    "model.compile(optimizer='sgd',\n",
    "              loss='binary_crossentropy',\n",
    "              metrics=['accuracy'])"
   ]
  },
  {
   "cell_type": "markdown",
   "metadata": {},
   "source": [
    "Training on the data is pretty straightforward and requires us to write one line of code. The function is called 'fit' as we are fitting the parameters to the data. We specify:\n",
    "- what data we are training on, which is X_train and Y_train\n",
    "- the size of our mini-batch \n",
    "- how long we want to train it for (epochs)\n",
    "- what our validation data is so that the model will tell us how we are doing on the validation data at each point.\n",
    "\n",
    "This function will output a history, which we save under the variable hist. We'll use this variable a little later."
   ]
  },
  {
   "cell_type": "code",
   "execution_count": 20,
   "metadata": {
    "ExecuteTime": {
     "end_time": "2020-06-16T16:16:41.363963Z",
     "start_time": "2020-06-16T16:16:35.871263Z"
    }
   },
   "outputs": [
    {
     "name": "stdout",
     "output_type": "stream",
     "text": [
      "Epoch 1/100\n",
      "32/32 [==============================] - 0s 6ms/step - loss: 0.6797 - accuracy: 0.6654 - val_loss: 0.6760 - val_accuracy: 0.6941\n",
      "Epoch 2/100\n",
      "32/32 [==============================] - 0s 2ms/step - loss: 0.6694 - accuracy: 0.7114 - val_loss: 0.6703 - val_accuracy: 0.6621\n",
      "Epoch 3/100\n",
      "32/32 [==============================] - 0s 2ms/step - loss: 0.6622 - accuracy: 0.6624 - val_loss: 0.6656 - val_accuracy: 0.6301\n",
      "Epoch 4/100\n",
      "32/32 [==============================] - 0s 2ms/step - loss: 0.6565 - accuracy: 0.6595 - val_loss: 0.6613 - val_accuracy: 0.6301\n",
      "Epoch 5/100\n",
      "32/32 [==============================] - 0s 2ms/step - loss: 0.6511 - accuracy: 0.6673 - val_loss: 0.6569 - val_accuracy: 0.6301\n",
      "Epoch 6/100\n",
      "32/32 [==============================] - 0s 2ms/step - loss: 0.6458 - accuracy: 0.6566 - val_loss: 0.6519 - val_accuracy: 0.6484\n",
      "Epoch 7/100\n",
      "32/32 [==============================] - 0s 2ms/step - loss: 0.6404 - accuracy: 0.7016 - val_loss: 0.6470 - val_accuracy: 0.6621\n",
      "Epoch 8/100\n",
      "32/32 [==============================] - 0s 2ms/step - loss: 0.6348 - accuracy: 0.7025 - val_loss: 0.6414 - val_accuracy: 0.6804\n",
      "Epoch 9/100\n",
      "32/32 [==============================] - 0s 2ms/step - loss: 0.6290 - accuracy: 0.7123 - val_loss: 0.6354 - val_accuracy: 0.6941\n",
      "Epoch 10/100\n",
      "32/32 [==============================] - 0s 2ms/step - loss: 0.6230 - accuracy: 0.7348 - val_loss: 0.6291 - val_accuracy: 0.7169\n",
      "Epoch 11/100\n",
      "32/32 [==============================] - 0s 2ms/step - loss: 0.6166 - accuracy: 0.7554 - val_loss: 0.6227 - val_accuracy: 0.7443\n",
      "Epoch 12/100\n",
      "32/32 [==============================] - 0s 2ms/step - loss: 0.6101 - accuracy: 0.7867 - val_loss: 0.6165 - val_accuracy: 0.7580\n",
      "Epoch 13/100\n",
      "32/32 [==============================] - 0s 2ms/step - loss: 0.6034 - accuracy: 0.7857 - val_loss: 0.6098 - val_accuracy: 0.7900\n",
      "Epoch 14/100\n",
      "32/32 [==============================] - 0s 2ms/step - loss: 0.5963 - accuracy: 0.7975 - val_loss: 0.6032 - val_accuracy: 0.7900\n",
      "Epoch 15/100\n",
      "32/32 [==============================] - 0s 2ms/step - loss: 0.5894 - accuracy: 0.8043 - val_loss: 0.5960 - val_accuracy: 0.8128\n",
      "Epoch 16/100\n",
      "32/32 [==============================] - 0s 2ms/step - loss: 0.5819 - accuracy: 0.8023 - val_loss: 0.5879 - val_accuracy: 0.8128\n",
      "Epoch 17/100\n",
      "32/32 [==============================] - 0s 2ms/step - loss: 0.5744 - accuracy: 0.8092 - val_loss: 0.5800 - val_accuracy: 0.8219\n",
      "Epoch 18/100\n",
      "32/32 [==============================] - 0s 2ms/step - loss: 0.5668 - accuracy: 0.8121 - val_loss: 0.5718 - val_accuracy: 0.8356\n",
      "Epoch 19/100\n",
      "32/32 [==============================] - 0s 2ms/step - loss: 0.5587 - accuracy: 0.8278 - val_loss: 0.5645 - val_accuracy: 0.8311\n",
      "Epoch 20/100\n",
      "32/32 [==============================] - 0s 3ms/step - loss: 0.5507 - accuracy: 0.8239 - val_loss: 0.5564 - val_accuracy: 0.8356\n",
      "Epoch 21/100\n",
      "32/32 [==============================] - 0s 2ms/step - loss: 0.5424 - accuracy: 0.8258 - val_loss: 0.5474 - val_accuracy: 0.8356\n",
      "Epoch 22/100\n",
      "32/32 [==============================] - 0s 2ms/step - loss: 0.5339 - accuracy: 0.8376 - val_loss: 0.5396 - val_accuracy: 0.8356\n",
      "Epoch 23/100\n",
      "32/32 [==============================] - 0s 2ms/step - loss: 0.5257 - accuracy: 0.8366 - val_loss: 0.5308 - val_accuracy: 0.8402\n",
      "Epoch 24/100\n",
      "32/32 [==============================] - 0s 2ms/step - loss: 0.5171 - accuracy: 0.8483 - val_loss: 0.5225 - val_accuracy: 0.8493\n",
      "Epoch 25/100\n",
      "32/32 [==============================] - 0s 2ms/step - loss: 0.5086 - accuracy: 0.8425 - val_loss: 0.5126 - val_accuracy: 0.8630\n",
      "Epoch 26/100\n",
      "32/32 [==============================] - 0s 2ms/step - loss: 0.5000 - accuracy: 0.8474 - val_loss: 0.5035 - val_accuracy: 0.8676\n",
      "Epoch 27/100\n",
      "32/32 [==============================] - 0s 2ms/step - loss: 0.4915 - accuracy: 0.8542 - val_loss: 0.4960 - val_accuracy: 0.8630\n",
      "Epoch 28/100\n",
      "32/32 [==============================] - 0s 3ms/step - loss: 0.4832 - accuracy: 0.8562 - val_loss: 0.4866 - val_accuracy: 0.8721\n",
      "Epoch 29/100\n",
      "32/32 [==============================] - 0s 3ms/step - loss: 0.4750 - accuracy: 0.8552 - val_loss: 0.4776 - val_accuracy: 0.8767\n",
      "Epoch 30/100\n",
      "32/32 [==============================] - 0s 2ms/step - loss: 0.4670 - accuracy: 0.8562 - val_loss: 0.4696 - val_accuracy: 0.8767\n",
      "Epoch 31/100\n",
      "32/32 [==============================] - 0s 2ms/step - loss: 0.4590 - accuracy: 0.8620 - val_loss: 0.4615 - val_accuracy: 0.8767\n",
      "Epoch 32/100\n",
      "32/32 [==============================] - 0s 2ms/step - loss: 0.4513 - accuracy: 0.8601 - val_loss: 0.4533 - val_accuracy: 0.8721\n",
      "Epoch 33/100\n",
      "32/32 [==============================] - 0s 2ms/step - loss: 0.4437 - accuracy: 0.8640 - val_loss: 0.4457 - val_accuracy: 0.8721\n",
      "Epoch 34/100\n",
      "32/32 [==============================] - 0s 2ms/step - loss: 0.4363 - accuracy: 0.8542 - val_loss: 0.4370 - val_accuracy: 0.8584\n",
      "Epoch 35/100\n",
      "32/32 [==============================] - 0s 2ms/step - loss: 0.4294 - accuracy: 0.8630 - val_loss: 0.4311 - val_accuracy: 0.8721\n",
      "Epoch 36/100\n",
      "32/32 [==============================] - 0s 2ms/step - loss: 0.4225 - accuracy: 0.8669 - val_loss: 0.4226 - val_accuracy: 0.8676\n",
      "Epoch 37/100\n",
      "32/32 [==============================] - 0s 2ms/step - loss: 0.4161 - accuracy: 0.8640 - val_loss: 0.4161 - val_accuracy: 0.8676\n",
      "Epoch 38/100\n",
      "32/32 [==============================] - 0s 2ms/step - loss: 0.4103 - accuracy: 0.8640 - val_loss: 0.4112 - val_accuracy: 0.8676\n",
      "Epoch 39/100\n",
      "32/32 [==============================] - 0s 2ms/step - loss: 0.4040 - accuracy: 0.8620 - val_loss: 0.4036 - val_accuracy: 0.8676\n",
      "Epoch 40/100\n",
      "32/32 [==============================] - 0s 2ms/step - loss: 0.3982 - accuracy: 0.8650 - val_loss: 0.3978 - val_accuracy: 0.8721\n",
      "Epoch 41/100\n",
      "32/32 [==============================] - 0s 2ms/step - loss: 0.3929 - accuracy: 0.8620 - val_loss: 0.3927 - val_accuracy: 0.8767\n",
      "Epoch 42/100\n",
      "32/32 [==============================] - 0s 2ms/step - loss: 0.3877 - accuracy: 0.8630 - val_loss: 0.3877 - val_accuracy: 0.8813\n",
      "Epoch 43/100\n",
      "32/32 [==============================] - 0s 2ms/step - loss: 0.3827 - accuracy: 0.8659 - val_loss: 0.3816 - val_accuracy: 0.8721\n",
      "Epoch 44/100\n",
      "32/32 [==============================] - 0s 2ms/step - loss: 0.3781 - accuracy: 0.8650 - val_loss: 0.3772 - val_accuracy: 0.8721\n",
      "Epoch 45/100\n",
      "32/32 [==============================] - 0s 2ms/step - loss: 0.3740 - accuracy: 0.8699 - val_loss: 0.3729 - val_accuracy: 0.8767\n",
      "Epoch 46/100\n",
      "32/32 [==============================] - 0s 2ms/step - loss: 0.3700 - accuracy: 0.8650 - val_loss: 0.3683 - val_accuracy: 0.8721\n",
      "Epoch 47/100\n",
      "32/32 [==============================] - 0s 2ms/step - loss: 0.3661 - accuracy: 0.8679 - val_loss: 0.3649 - val_accuracy: 0.8813\n",
      "Epoch 48/100\n",
      "32/32 [==============================] - 0s 2ms/step - loss: 0.3622 - accuracy: 0.8650 - val_loss: 0.3602 - val_accuracy: 0.8721\n",
      "Epoch 49/100\n",
      "32/32 [==============================] - 0s 2ms/step - loss: 0.3589 - accuracy: 0.8679 - val_loss: 0.3573 - val_accuracy: 0.8767\n",
      "Epoch 50/100\n",
      "32/32 [==============================] - 0s 2ms/step - loss: 0.3555 - accuracy: 0.8669 - val_loss: 0.3531 - val_accuracy: 0.8721\n",
      "Epoch 51/100\n",
      "32/32 [==============================] - 0s 2ms/step - loss: 0.3521 - accuracy: 0.8689 - val_loss: 0.3499 - val_accuracy: 0.8767\n",
      "Epoch 52/100\n",
      "32/32 [==============================] - 0s 3ms/step - loss: 0.3492 - accuracy: 0.8669 - val_loss: 0.3485 - val_accuracy: 0.8858\n",
      "Epoch 53/100\n",
      "32/32 [==============================] - 0s 3ms/step - loss: 0.3462 - accuracy: 0.8699 - val_loss: 0.3441 - val_accuracy: 0.8813\n",
      "Epoch 54/100\n",
      "32/32 [==============================] - 0s 2ms/step - loss: 0.3432 - accuracy: 0.8708 - val_loss: 0.3405 - val_accuracy: 0.8813\n",
      "Epoch 55/100\n",
      "32/32 [==============================] - 0s 2ms/step - loss: 0.3411 - accuracy: 0.8689 - val_loss: 0.3389 - val_accuracy: 0.8813\n",
      "Epoch 56/100\n",
      "32/32 [==============================] - 0s 2ms/step - loss: 0.3386 - accuracy: 0.8699 - val_loss: 0.3356 - val_accuracy: 0.8904\n",
      "Epoch 57/100\n",
      "32/32 [==============================] - 0s 2ms/step - loss: 0.3364 - accuracy: 0.8699 - val_loss: 0.3337 - val_accuracy: 0.8904\n",
      "Epoch 58/100\n",
      "32/32 [==============================] - 0s 2ms/step - loss: 0.3341 - accuracy: 0.8718 - val_loss: 0.3311 - val_accuracy: 0.8904\n"
     ]
    },
    {
     "name": "stdout",
     "output_type": "stream",
     "text": [
      "Epoch 59/100\n",
      "32/32 [==============================] - 0s 2ms/step - loss: 0.3322 - accuracy: 0.8738 - val_loss: 0.3290 - val_accuracy: 0.8904\n",
      "Epoch 60/100\n",
      "32/32 [==============================] - 0s 2ms/step - loss: 0.3301 - accuracy: 0.8738 - val_loss: 0.3270 - val_accuracy: 0.8904\n",
      "Epoch 61/100\n",
      "32/32 [==============================] - 0s 2ms/step - loss: 0.3280 - accuracy: 0.8748 - val_loss: 0.3250 - val_accuracy: 0.8904\n",
      "Epoch 62/100\n",
      "32/32 [==============================] - 0s 2ms/step - loss: 0.3269 - accuracy: 0.8738 - val_loss: 0.3233 - val_accuracy: 0.8904\n",
      "Epoch 63/100\n",
      "32/32 [==============================] - 0s 2ms/step - loss: 0.3246 - accuracy: 0.8728 - val_loss: 0.3229 - val_accuracy: 0.8904\n",
      "Epoch 64/100\n",
      "32/32 [==============================] - 0s 2ms/step - loss: 0.3224 - accuracy: 0.8748 - val_loss: 0.3196 - val_accuracy: 0.8858\n",
      "Epoch 65/100\n",
      "32/32 [==============================] - 0s 2ms/step - loss: 0.3214 - accuracy: 0.8699 - val_loss: 0.3183 - val_accuracy: 0.8950\n",
      "Epoch 66/100\n",
      "32/32 [==============================] - 0s 2ms/step - loss: 0.3199 - accuracy: 0.8708 - val_loss: 0.3178 - val_accuracy: 0.8950\n",
      "Epoch 67/100\n",
      "32/32 [==============================] - 0s 2ms/step - loss: 0.3184 - accuracy: 0.8708 - val_loss: 0.3144 - val_accuracy: 0.8858\n",
      "Epoch 68/100\n",
      "32/32 [==============================] - 0s 2ms/step - loss: 0.3169 - accuracy: 0.8689 - val_loss: 0.3131 - val_accuracy: 0.8813\n",
      "Epoch 69/100\n",
      "32/32 [==============================] - 0s 2ms/step - loss: 0.3161 - accuracy: 0.8728 - val_loss: 0.3118 - val_accuracy: 0.8813\n",
      "Epoch 70/100\n",
      "32/32 [==============================] - 0s 2ms/step - loss: 0.3146 - accuracy: 0.8748 - val_loss: 0.3109 - val_accuracy: 0.8950\n",
      "Epoch 71/100\n",
      "32/32 [==============================] - 0s 2ms/step - loss: 0.3129 - accuracy: 0.8757 - val_loss: 0.3094 - val_accuracy: 0.8950\n",
      "Epoch 72/100\n",
      "32/32 [==============================] - 0s 2ms/step - loss: 0.3117 - accuracy: 0.8757 - val_loss: 0.3075 - val_accuracy: 0.8904\n",
      "Epoch 73/100\n",
      "32/32 [==============================] - 0s 2ms/step - loss: 0.3110 - accuracy: 0.8738 - val_loss: 0.3065 - val_accuracy: 0.8995\n",
      "Epoch 74/100\n",
      "32/32 [==============================] - 0s 2ms/step - loss: 0.3098 - accuracy: 0.8728 - val_loss: 0.3056 - val_accuracy: 0.8995\n",
      "Epoch 75/100\n",
      "32/32 [==============================] - 0s 2ms/step - loss: 0.3087 - accuracy: 0.8757 - val_loss: 0.3040 - val_accuracy: 0.8950\n",
      "Epoch 76/100\n",
      "32/32 [==============================] - 0s 2ms/step - loss: 0.3080 - accuracy: 0.8748 - val_loss: 0.3031 - val_accuracy: 0.9041\n",
      "Epoch 77/100\n",
      "32/32 [==============================] - 0s 2ms/step - loss: 0.3073 - accuracy: 0.8738 - val_loss: 0.3022 - val_accuracy: 0.9041\n",
      "Epoch 78/100\n",
      "32/32 [==============================] - 0s 2ms/step - loss: 0.3056 - accuracy: 0.8777 - val_loss: 0.3007 - val_accuracy: 0.8950\n",
      "Epoch 79/100\n",
      "32/32 [==============================] - 0s 2ms/step - loss: 0.3043 - accuracy: 0.8796 - val_loss: 0.3007 - val_accuracy: 0.8995\n",
      "Epoch 80/100\n",
      "32/32 [==============================] - 0s 2ms/step - loss: 0.3040 - accuracy: 0.8767 - val_loss: 0.2989 - val_accuracy: 0.9041\n",
      "Epoch 81/100\n",
      "32/32 [==============================] - 0s 2ms/step - loss: 0.3026 - accuracy: 0.8767 - val_loss: 0.2981 - val_accuracy: 0.9041\n",
      "Epoch 82/100\n",
      "32/32 [==============================] - 0s 2ms/step - loss: 0.3018 - accuracy: 0.8748 - val_loss: 0.2971 - val_accuracy: 0.9041\n",
      "Epoch 83/100\n",
      "32/32 [==============================] - 0s 2ms/step - loss: 0.3012 - accuracy: 0.8748 - val_loss: 0.2967 - val_accuracy: 0.9041\n",
      "Epoch 84/100\n",
      "32/32 [==============================] - 0s 2ms/step - loss: 0.3000 - accuracy: 0.8708 - val_loss: 0.2951 - val_accuracy: 0.8995\n",
      "Epoch 85/100\n",
      "32/32 [==============================] - 0s 2ms/step - loss: 0.2990 - accuracy: 0.8777 - val_loss: 0.2961 - val_accuracy: 0.8995\n",
      "Epoch 86/100\n",
      "32/32 [==============================] - 0s 2ms/step - loss: 0.2983 - accuracy: 0.8787 - val_loss: 0.2947 - val_accuracy: 0.8995\n",
      "Epoch 87/100\n",
      "32/32 [==============================] - 0s 2ms/step - loss: 0.2978 - accuracy: 0.8806 - val_loss: 0.2926 - val_accuracy: 0.9087\n",
      "Epoch 88/100\n",
      "32/32 [==============================] - 0s 2ms/step - loss: 0.2971 - accuracy: 0.8806 - val_loss: 0.2919 - val_accuracy: 0.9087\n",
      "Epoch 89/100\n",
      "32/32 [==============================] - 0s 2ms/step - loss: 0.2964 - accuracy: 0.8796 - val_loss: 0.2911 - val_accuracy: 0.9087\n",
      "Epoch 90/100\n",
      "32/32 [==============================] - 0s 2ms/step - loss: 0.2952 - accuracy: 0.8796 - val_loss: 0.2910 - val_accuracy: 0.9087\n",
      "Epoch 91/100\n",
      "32/32 [==============================] - 0s 2ms/step - loss: 0.2948 - accuracy: 0.8836 - val_loss: 0.2894 - val_accuracy: 0.9087\n",
      "Epoch 92/100\n",
      "32/32 [==============================] - 0s 2ms/step - loss: 0.2939 - accuracy: 0.8816 - val_loss: 0.2887 - val_accuracy: 0.9087\n",
      "Epoch 93/100\n",
      "32/32 [==============================] - 0s 2ms/step - loss: 0.2929 - accuracy: 0.8816 - val_loss: 0.2888 - val_accuracy: 0.9087\n",
      "Epoch 94/100\n",
      "32/32 [==============================] - 0s 2ms/step - loss: 0.2932 - accuracy: 0.8845 - val_loss: 0.2879 - val_accuracy: 0.9087\n",
      "Epoch 95/100\n",
      "32/32 [==============================] - 0s 2ms/step - loss: 0.2918 - accuracy: 0.8806 - val_loss: 0.2870 - val_accuracy: 0.9087\n",
      "Epoch 96/100\n",
      "32/32 [==============================] - 0s 2ms/step - loss: 0.2907 - accuracy: 0.8806 - val_loss: 0.2857 - val_accuracy: 0.9041\n",
      "Epoch 97/100\n",
      "32/32 [==============================] - 0s 2ms/step - loss: 0.2912 - accuracy: 0.8796 - val_loss: 0.2857 - val_accuracy: 0.9087\n",
      "Epoch 98/100\n",
      "32/32 [==============================] - 0s 2ms/step - loss: 0.2892 - accuracy: 0.8836 - val_loss: 0.2878 - val_accuracy: 0.8995\n",
      "Epoch 99/100\n",
      "32/32 [==============================] - 0s 2ms/step - loss: 0.2897 - accuracy: 0.8845 - val_loss: 0.2842 - val_accuracy: 0.9087\n",
      "Epoch 100/100\n",
      "32/32 [==============================] - 0s 2ms/step - loss: 0.2886 - accuracy: 0.8865 - val_loss: 0.2831 - val_accuracy: 0.9087\n"
     ]
    }
   ],
   "source": [
    "hist = model.fit(X_train, Y_train,\n",
    "          batch_size=32, epochs=100,\n",
    "          validation_data=(X_val, Y_val))"
   ]
  },
  {
   "cell_type": "markdown",
   "metadata": {},
   "source": [
    "Evaluating our data on the test set:"
   ]
  },
  {
   "cell_type": "code",
   "execution_count": 21,
   "metadata": {
    "ExecuteTime": {
     "end_time": "2020-06-16T16:16:46.025765Z",
     "start_time": "2020-06-16T16:16:45.988977Z"
    }
   },
   "outputs": [
    {
     "name": "stdout",
     "output_type": "stream",
     "text": [
      "7/7 [==============================] - 0s 1ms/step - loss: 0.2531 - accuracy: 0.8950\n"
     ]
    },
    {
     "data": {
      "text/plain": [
       "0.8949771523475647"
      ]
     },
     "execution_count": 21,
     "metadata": {},
     "output_type": "execute_result"
    }
   ],
   "source": [
    "model.evaluate(X_test, Y_test)[1]"
   ]
  },
  {
   "cell_type": "markdown",
   "metadata": {},
   "source": [
    "# Visualizing Loss and Accuracy"
   ]
  },
  {
   "cell_type": "markdown",
   "metadata": {},
   "source": [
    "Import the relevant package we need to do the visualization"
   ]
  },
  {
   "cell_type": "code",
   "execution_count": 22,
   "metadata": {
    "ExecuteTime": {
     "end_time": "2020-06-16T16:16:49.560381Z",
     "start_time": "2020-06-16T16:16:49.209638Z"
    }
   },
   "outputs": [],
   "source": [
    "import matplotlib.pyplot as plt"
   ]
  },
  {
   "cell_type": "markdown",
   "metadata": {},
   "source": [
    "We want to visualize the training loss and the validation loss like this:"
   ]
  },
  {
   "cell_type": "code",
   "execution_count": 23,
   "metadata": {
    "ExecuteTime": {
     "end_time": "2020-06-16T16:19:34.628432Z",
     "start_time": "2020-06-16T16:19:34.624829Z"
    }
   },
   "outputs": [
    {
     "data": {
      "text/plain": [
       "dict_keys(['loss', 'accuracy', 'val_loss', 'val_accuracy'])"
      ]
     },
     "execution_count": 23,
     "metadata": {},
     "output_type": "execute_result"
    }
   ],
   "source": [
    "hist.history.keys()"
   ]
  },
  {
   "cell_type": "code",
   "execution_count": 24,
   "metadata": {
    "ExecuteTime": {
     "end_time": "2020-06-16T16:16:51.545102Z",
     "start_time": "2020-06-16T16:16:50.677000Z"
    }
   },
   "outputs": [
    {
     "data": {
      "image/png": "[encoded data removed]",
      "text/plain": [
       "<Figure size 432x288 with 1 Axes>"
      ]
     },
     "metadata": {
      "needs_background": "light"
     },
     "output_type": "display_data"
    }
   ],
   "source": [
    "plt.plot(hist.history['loss'])\n",
    "plt.plot(hist.history['val_loss'])\n",
    "plt.title('Model loss')\n",
    "plt.ylabel('Loss')\n",
    "plt.xlabel('Epoch')\n",
    "plt.legend(['Train', 'Val'], loc='upper right')\n",
    "plt.show()"
   ]
  },
  {
   "cell_type": "markdown",
   "metadata": {},
   "source": [
    "We can also visualize the training accuracy and the validation accuracy like this:"
   ]
  },
  {
   "cell_type": "code",
   "execution_count": 25,
   "metadata": {
    "ExecuteTime": {
     "end_time": "2020-06-16T16:19:59.663094Z",
     "start_time": "2020-06-16T16:19:59.533681Z"
    }
   },
   "outputs": [
    {
     "data": {
      "image/png": "[encoded data removed]",
      "text/plain": [
       "<Figure size 432x288 with 1 Axes>"
      ]
     },
     "metadata": {
      "needs_background": "light"
     },
     "output_type": "display_data"
    }
   ],
   "source": [
    "plt.plot(hist.history['accuracy'])\n",
    "plt.plot(hist.history['val_accuracy'])\n",
    "plt.title('Model accuracy')\n",
    "plt.ylabel('Accuracy')\n",
    "plt.xlabel('Epoch')\n",
    "plt.legend(['Train', 'Val'], loc='lower right')\n",
    "plt.show()"
   ]
  },
  {
   "cell_type": "markdown",
   "metadata": {},
   "source": [
    "# Adding Regularization to our Neural Network"
   ]
  },
  {
   "cell_type": "markdown",
   "metadata": {},
   "source": [
    "We'll train a model which will overfit, which we call Model 2. This might take a few minutes."
   ]
  },
  {
   "cell_type": "code",
   "execution_count": 26,
   "metadata": {
    "ExecuteTime": {
     "end_time": "2020-06-16T16:21:41.275565Z",
     "start_time": "2020-06-16T16:20:52.141373Z"
    },
    "scrolled": true
   },
   "outputs": [
    {
     "name": "stdout",
     "output_type": "stream",
     "text": [
      "Epoch 1/100\n",
      "32/32 [==============================] - 1s 29ms/step - loss: 0.4869 - accuracy: 0.7759 - val_loss: 0.4030 - val_accuracy: 0.8630\n",
      "Epoch 2/100\n",
      "32/32 [==============================] - 1s 24ms/step - loss: 0.3570 - accuracy: 0.8523 - val_loss: 0.3170 - val_accuracy: 0.8539\n",
      "Epoch 3/100\n",
      "32/32 [==============================] - 1s 23ms/step - loss: 0.3167 - accuracy: 0.8630 - val_loss: 0.2724 - val_accuracy: 0.8950\n",
      "Epoch 4/100\n",
      "32/32 [==============================] - 1s 24ms/step - loss: 0.2849 - accuracy: 0.8757 - val_loss: 0.2445 - val_accuracy: 0.9132\n",
      "Epoch 5/100\n",
      "32/32 [==============================] - 1s 24ms/step - loss: 0.2908 - accuracy: 0.8777 - val_loss: 0.2687 - val_accuracy: 0.9178\n",
      "Epoch 6/100\n",
      "32/32 [==============================] - 1s 24ms/step - loss: 0.2627 - accuracy: 0.8914 - val_loss: 0.2253 - val_accuracy: 0.9178\n",
      "Epoch 7/100\n",
      "32/32 [==============================] - 1s 23ms/step - loss: 0.2630 - accuracy: 0.8933 - val_loss: 0.2392 - val_accuracy: 0.9178\n",
      "Epoch 8/100\n",
      "32/32 [==============================] - 1s 23ms/step - loss: 0.2650 - accuracy: 0.8933 - val_loss: 0.2664 - val_accuracy: 0.8904\n",
      "Epoch 9/100\n",
      "32/32 [==============================] - 1s 25ms/step - loss: 0.2458 - accuracy: 0.8973 - val_loss: 0.2338 - val_accuracy: 0.9178\n",
      "Epoch 10/100\n",
      "32/32 [==============================] - 1s 24ms/step - loss: 0.2369 - accuracy: 0.9012 - val_loss: 0.2119 - val_accuracy: 0.9132\n",
      "Epoch 11/100\n",
      "32/32 [==============================] - 1s 24ms/step - loss: 0.2270 - accuracy: 0.9100 - val_loss: 0.2210 - val_accuracy: 0.9224\n",
      "Epoch 12/100\n",
      "32/32 [==============================] - 1s 23ms/step - loss: 0.2351 - accuracy: 0.8973 - val_loss: 0.2669 - val_accuracy: 0.8950\n",
      "Epoch 13/100\n",
      "32/32 [==============================] - 1s 24ms/step - loss: 0.2455 - accuracy: 0.9022 - val_loss: 0.2326 - val_accuracy: 0.9224\n",
      "Epoch 14/100\n",
      "32/32 [==============================] - 1s 25ms/step - loss: 0.2173 - accuracy: 0.9100 - val_loss: 0.2449 - val_accuracy: 0.8950\n",
      "Epoch 15/100\n",
      "32/32 [==============================] - 1s 24ms/step - loss: 0.2212 - accuracy: 0.9119 - val_loss: 0.2245 - val_accuracy: 0.9132\n",
      "Epoch 16/100\n",
      "32/32 [==============================] - 1s 23ms/step - loss: 0.2222 - accuracy: 0.8943 - val_loss: 0.2288 - val_accuracy: 0.9132\n",
      "Epoch 17/100\n",
      "32/32 [==============================] - 1s 23ms/step - loss: 0.2209 - accuracy: 0.8963 - val_loss: 0.2334 - val_accuracy: 0.9087\n",
      "Epoch 18/100\n",
      "32/32 [==============================] - 1s 23ms/step - loss: 0.2139 - accuracy: 0.9080 - val_loss: 0.2233 - val_accuracy: 0.9132\n",
      "Epoch 19/100\n",
      "32/32 [==============================] - 1s 23ms/step - loss: 0.2004 - accuracy: 0.9119 - val_loss: 0.2449 - val_accuracy: 0.8904\n",
      "Epoch 20/100\n",
      "32/32 [==============================] - 1s 23ms/step - loss: 0.2121 - accuracy: 0.9159 - val_loss: 0.2128 - val_accuracy: 0.9269\n",
      "Epoch 21/100\n",
      "32/32 [==============================] - 1s 23ms/step - loss: 0.2162 - accuracy: 0.8963 - val_loss: 0.2249 - val_accuracy: 0.9132\n",
      "Epoch 22/100\n",
      "32/32 [==============================] - 1s 23ms/step - loss: 0.2036 - accuracy: 0.9031 - val_loss: 0.2387 - val_accuracy: 0.9178\n",
      "Epoch 23/100\n",
      "32/32 [==============================] - 1s 23ms/step - loss: 0.2005 - accuracy: 0.9198 - val_loss: 0.2404 - val_accuracy: 0.9269\n",
      "Epoch 24/100\n",
      "32/32 [==============================] - 1s 23ms/step - loss: 0.2040 - accuracy: 0.9217 - val_loss: 0.2722 - val_accuracy: 0.8995\n",
      "Epoch 25/100\n",
      "32/32 [==============================] - 1s 23ms/step - loss: 0.2079 - accuracy: 0.9051 - val_loss: 0.2267 - val_accuracy: 0.9178\n",
      "Epoch 26/100\n",
      "32/32 [==============================] - 1s 23ms/step - loss: 0.2017 - accuracy: 0.9149 - val_loss: 0.2546 - val_accuracy: 0.9041\n",
      "Epoch 27/100\n",
      "32/32 [==============================] - 1s 24ms/step - loss: 0.2102 - accuracy: 0.9119 - val_loss: 0.2391 - val_accuracy: 0.9132\n",
      "Epoch 28/100\n",
      "32/32 [==============================] - 1s 24ms/step - loss: 0.1984 - accuracy: 0.9080 - val_loss: 0.2780 - val_accuracy: 0.8904\n",
      "Epoch 29/100\n",
      "32/32 [==============================] - 1s 24ms/step - loss: 0.2249 - accuracy: 0.9061 - val_loss: 0.2898 - val_accuracy: 0.8904\n",
      "Epoch 30/100\n",
      "32/32 [==============================] - 1s 26ms/step - loss: 0.1930 - accuracy: 0.9159 - val_loss: 0.2150 - val_accuracy: 0.9087\n",
      "Epoch 31/100\n",
      "32/32 [==============================] - 1s 26ms/step - loss: 0.1848 - accuracy: 0.9227 - val_loss: 0.2347 - val_accuracy: 0.8995\n",
      "Epoch 32/100\n",
      "32/32 [==============================] - 1s 26ms/step - loss: 0.1843 - accuracy: 0.9217 - val_loss: 0.2611 - val_accuracy: 0.9132\n",
      "Epoch 33/100\n",
      "32/32 [==============================] - 1s 25ms/step - loss: 0.1964 - accuracy: 0.9168 - val_loss: 0.3087 - val_accuracy: 0.8995\n",
      "Epoch 34/100\n",
      "32/32 [==============================] - 1s 24ms/step - loss: 0.1988 - accuracy: 0.9149 - val_loss: 0.2375 - val_accuracy: 0.9041\n",
      "Epoch 35/100\n",
      "32/32 [==============================] - 1s 24ms/step - loss: 0.1805 - accuracy: 0.9217 - val_loss: 0.2405 - val_accuracy: 0.9087\n",
      "Epoch 36/100\n",
      "32/32 [==============================] - 1s 24ms/step - loss: 0.1777 - accuracy: 0.9247 - val_loss: 0.2572 - val_accuracy: 0.9178\n",
      "Epoch 37/100\n",
      "32/32 [==============================] - 1s 25ms/step - loss: 0.1917 - accuracy: 0.9266 - val_loss: 0.2433 - val_accuracy: 0.9041\n",
      "Epoch 38/100\n",
      "32/32 [==============================] - 1s 25ms/step - loss: 0.1964 - accuracy: 0.9129 - val_loss: 0.2805 - val_accuracy: 0.8767\n",
      "Epoch 39/100\n",
      "32/32 [==============================] - 1s 24ms/step - loss: 0.2031 - accuracy: 0.9119 - val_loss: 0.2334 - val_accuracy: 0.9087\n",
      "Epoch 40/100\n",
      "32/32 [==============================] - 1s 23ms/step - loss: 0.1764 - accuracy: 0.9286 - val_loss: 0.2994 - val_accuracy: 0.8676\n",
      "Epoch 41/100\n",
      "32/32 [==============================] - 1s 23ms/step - loss: 0.1889 - accuracy: 0.9198 - val_loss: 0.2711 - val_accuracy: 0.8950\n",
      "Epoch 42/100\n",
      "32/32 [==============================] - 1s 23ms/step - loss: 0.1754 - accuracy: 0.9227 - val_loss: 0.2648 - val_accuracy: 0.9041\n",
      "Epoch 43/100\n",
      "32/32 [==============================] - 1s 23ms/step - loss: 0.1708 - accuracy: 0.9237 - val_loss: 0.2768 - val_accuracy: 0.8950\n",
      "Epoch 44/100\n",
      "32/32 [==============================] - 1s 22ms/step - loss: 0.1703 - accuracy: 0.9276 - val_loss: 0.2366 - val_accuracy: 0.9087\n",
      "Epoch 45/100\n",
      "32/32 [==============================] - 1s 23ms/step - loss: 0.1861 - accuracy: 0.9276 - val_loss: 0.2665 - val_accuracy: 0.9041\n",
      "Epoch 46/100\n",
      "32/32 [==============================] - 1s 23ms/step - loss: 0.1730 - accuracy: 0.9256 - val_loss: 0.3154 - val_accuracy: 0.8858\n",
      "Epoch 47/100\n",
      "32/32 [==============================] - 1s 23ms/step - loss: 0.1651 - accuracy: 0.9295 - val_loss: 0.2704 - val_accuracy: 0.9041\n",
      "Epoch 48/100\n",
      "32/32 [==============================] - 1s 23ms/step - loss: 0.1819 - accuracy: 0.9276 - val_loss: 0.2785 - val_accuracy: 0.8858\n",
      "Epoch 49/100\n",
      "32/32 [==============================] - 1s 23ms/step - loss: 0.1858 - accuracy: 0.9227 - val_loss: 0.2732 - val_accuracy: 0.9041\n",
      "Epoch 50/100\n",
      "32/32 [==============================] - 1s 23ms/step - loss: 0.1742 - accuracy: 0.9295 - val_loss: 0.2885 - val_accuracy: 0.9132\n",
      "Epoch 51/100\n",
      "32/32 [==============================] - 1s 24ms/step - loss: 0.1683 - accuracy: 0.9286 - val_loss: 0.4957 - val_accuracy: 0.8493\n",
      "Epoch 52/100\n",
      "32/32 [==============================] - 1s 23ms/step - loss: 0.1700 - accuracy: 0.9276 - val_loss: 0.2937 - val_accuracy: 0.9041\n",
      "Epoch 53/100\n",
      "32/32 [==============================] - 1s 23ms/step - loss: 0.1653 - accuracy: 0.9237 - val_loss: 0.2722 - val_accuracy: 0.8995\n",
      "Epoch 54/100\n",
      "32/32 [==============================] - 1s 24ms/step - loss: 0.1751 - accuracy: 0.9256 - val_loss: 0.3067 - val_accuracy: 0.8995\n",
      "Epoch 55/100\n",
      "32/32 [==============================] - 1s 23ms/step - loss: 0.1654 - accuracy: 0.9315 - val_loss: 0.3212 - val_accuracy: 0.9087\n",
      "Epoch 56/100\n",
      "32/32 [==============================] - 1s 24ms/step - loss: 0.1678 - accuracy: 0.9325 - val_loss: 0.3073 - val_accuracy: 0.8950\n",
      "Epoch 57/100\n",
      "32/32 [==============================] - 1s 24ms/step - loss: 0.1502 - accuracy: 0.9384 - val_loss: 0.2899 - val_accuracy: 0.9132\n",
      "Epoch 58/100\n"
     ]
    },
    {
     "name": "stdout",
     "output_type": "stream",
     "text": [
      "32/32 [==============================] - 1s 24ms/step - loss: 0.1536 - accuracy: 0.9413 - val_loss: 0.3459 - val_accuracy: 0.9132\n",
      "Epoch 59/100\n",
      "32/32 [==============================] - 1s 23ms/step - loss: 0.1563 - accuracy: 0.9344 - val_loss: 0.3638 - val_accuracy: 0.8950\n",
      "Epoch 60/100\n",
      "32/32 [==============================] - 1s 23ms/step - loss: 0.1396 - accuracy: 0.9403 - val_loss: 0.3781 - val_accuracy: 0.8995\n",
      "Epoch 61/100\n",
      "32/32 [==============================] - 1s 23ms/step - loss: 0.1463 - accuracy: 0.9403 - val_loss: 0.4188 - val_accuracy: 0.8767\n",
      "Epoch 62/100\n",
      "32/32 [==============================] - 1s 23ms/step - loss: 0.2131 - accuracy: 0.9159 - val_loss: 0.2566 - val_accuracy: 0.9041\n",
      "Epoch 63/100\n",
      "32/32 [==============================] - 1s 25ms/step - loss: 0.1830 - accuracy: 0.9305 - val_loss: 0.2789 - val_accuracy: 0.8904\n",
      "Epoch 64/100\n",
      "32/32 [==============================] - 1s 23ms/step - loss: 0.1583 - accuracy: 0.9344 - val_loss: 0.2889 - val_accuracy: 0.9269\n",
      "Epoch 65/100\n",
      "32/32 [==============================] - 1s 25ms/step - loss: 0.1434 - accuracy: 0.9403 - val_loss: 0.3513 - val_accuracy: 0.9041\n",
      "Epoch 66/100\n",
      "32/32 [==============================] - 1s 24ms/step - loss: 0.1436 - accuracy: 0.9413 - val_loss: 0.3510 - val_accuracy: 0.9087\n",
      "Epoch 67/100\n",
      "32/32 [==============================] - 1s 24ms/step - loss: 0.1363 - accuracy: 0.9442 - val_loss: 0.3667 - val_accuracy: 0.9041\n",
      "Epoch 68/100\n",
      "32/32 [==============================] - 1s 23ms/step - loss: 0.1652 - accuracy: 0.9276 - val_loss: 0.4062 - val_accuracy: 0.8904\n",
      "Epoch 69/100\n",
      "32/32 [==============================] - 1s 24ms/step - loss: 0.1644 - accuracy: 0.9276 - val_loss: 0.3200 - val_accuracy: 0.9132\n",
      "Epoch 70/100\n",
      "32/32 [==============================] - 1s 24ms/step - loss: 0.1406 - accuracy: 0.9393 - val_loss: 0.3924 - val_accuracy: 0.8950\n",
      "Epoch 71/100\n",
      "32/32 [==============================] - 1s 23ms/step - loss: 0.1287 - accuracy: 0.9472 - val_loss: 0.3337 - val_accuracy: 0.9178\n",
      "Epoch 72/100\n",
      "32/32 [==============================] - 1s 24ms/step - loss: 0.1473 - accuracy: 0.9413 - val_loss: 0.3958 - val_accuracy: 0.9041\n",
      "Epoch 73/100\n",
      "32/32 [==============================] - 1s 25ms/step - loss: 0.1351 - accuracy: 0.9452 - val_loss: 0.3869 - val_accuracy: 0.9087\n",
      "Epoch 74/100\n",
      "32/32 [==============================] - 1s 23ms/step - loss: 0.1277 - accuracy: 0.9432 - val_loss: 0.4170 - val_accuracy: 0.9178\n",
      "Epoch 75/100\n",
      "32/32 [==============================] - 1s 23ms/step - loss: 0.1696 - accuracy: 0.9276 - val_loss: 0.3628 - val_accuracy: 0.8995\n",
      "Epoch 76/100\n",
      "32/32 [==============================] - 1s 23ms/step - loss: 0.1561 - accuracy: 0.9384 - val_loss: 0.3638 - val_accuracy: 0.9087\n",
      "Epoch 77/100\n",
      "32/32 [==============================] - 1s 23ms/step - loss: 0.1810 - accuracy: 0.9227 - val_loss: 0.3512 - val_accuracy: 0.9041\n",
      "Epoch 78/100\n",
      "32/32 [==============================] - 1s 23ms/step - loss: 0.1421 - accuracy: 0.9393 - val_loss: 0.3754 - val_accuracy: 0.9178\n",
      "Epoch 79/100\n",
      "32/32 [==============================] - 1s 23ms/step - loss: 0.1350 - accuracy: 0.9423 - val_loss: 0.4704 - val_accuracy: 0.8904\n",
      "Epoch 80/100\n",
      "32/32 [==============================] - 1s 23ms/step - loss: 0.1256 - accuracy: 0.9462 - val_loss: 0.3916 - val_accuracy: 0.9087\n",
      "Epoch 81/100\n",
      "32/32 [==============================] - 1s 23ms/step - loss: 0.1409 - accuracy: 0.9413 - val_loss: 0.4143 - val_accuracy: 0.8904\n",
      "Epoch 82/100\n",
      "32/32 [==============================] - 1s 23ms/step - loss: 0.1602 - accuracy: 0.9374 - val_loss: 0.4065 - val_accuracy: 0.8721\n",
      "Epoch 83/100\n",
      "32/32 [==============================] - 1s 23ms/step - loss: 0.1394 - accuracy: 0.9462 - val_loss: 0.4056 - val_accuracy: 0.9132\n",
      "Epoch 84/100\n",
      "32/32 [==============================] - 1s 23ms/step - loss: 0.1260 - accuracy: 0.9511 - val_loss: 0.5456 - val_accuracy: 0.8767\n",
      "Epoch 85/100\n",
      "32/32 [==============================] - 1s 23ms/step - loss: 0.1183 - accuracy: 0.9521 - val_loss: 0.4885 - val_accuracy: 0.9087\n",
      "Epoch 86/100\n",
      "32/32 [==============================] - 1s 23ms/step - loss: 0.1086 - accuracy: 0.9481 - val_loss: 0.4879 - val_accuracy: 0.9087\n",
      "Epoch 87/100\n",
      "32/32 [==============================] - 1s 23ms/step - loss: 0.1100 - accuracy: 0.9550 - val_loss: 0.5013 - val_accuracy: 0.9132\n",
      "Epoch 88/100\n",
      "32/32 [==============================] - 1s 23ms/step - loss: 0.1127 - accuracy: 0.9550 - val_loss: 0.5144 - val_accuracy: 0.9224\n",
      "Epoch 89/100\n",
      "32/32 [==============================] - 1s 23ms/step - loss: 0.1347 - accuracy: 0.9432 - val_loss: 0.4650 - val_accuracy: 0.8858\n",
      "Epoch 90/100\n",
      "32/32 [==============================] - 1s 23ms/step - loss: 0.1377 - accuracy: 0.9413 - val_loss: 0.4992 - val_accuracy: 0.8950\n",
      "Epoch 91/100\n",
      "32/32 [==============================] - 1s 23ms/step - loss: 0.1139 - accuracy: 0.9569 - val_loss: 0.4899 - val_accuracy: 0.8858\n",
      "Epoch 92/100\n",
      "32/32 [==============================] - 1s 24ms/step - loss: 0.1213 - accuracy: 0.9530 - val_loss: 0.5521 - val_accuracy: 0.8904\n",
      "Epoch 93/100\n",
      "32/32 [==============================] - 1s 25ms/step - loss: 0.1380 - accuracy: 0.9423 - val_loss: 0.4081 - val_accuracy: 0.8950\n",
      "Epoch 94/100\n",
      "32/32 [==============================] - 1s 24ms/step - loss: 0.1257 - accuracy: 0.9511 - val_loss: 0.4932 - val_accuracy: 0.9132\n",
      "Epoch 95/100\n",
      "32/32 [==============================] - 1s 24ms/step - loss: 0.1790 - accuracy: 0.9266 - val_loss: 0.4015 - val_accuracy: 0.8767\n",
      "Epoch 96/100\n",
      "32/32 [==============================] - 1s 24ms/step - loss: 0.1415 - accuracy: 0.9423 - val_loss: 0.3516 - val_accuracy: 0.9178\n",
      "Epoch 97/100\n",
      "32/32 [==============================] - 1s 24ms/step - loss: 0.1337 - accuracy: 0.9442 - val_loss: 0.3472 - val_accuracy: 0.9178\n",
      "Epoch 98/100\n",
      "32/32 [==============================] - 1s 24ms/step - loss: 0.1042 - accuracy: 0.9609 - val_loss: 0.4892 - val_accuracy: 0.8995\n",
      "Epoch 99/100\n",
      "32/32 [==============================] - 1s 24ms/step - loss: 0.1122 - accuracy: 0.9569 - val_loss: 0.4075 - val_accuracy: 0.9087\n",
      "Epoch 100/100\n",
      "32/32 [==============================] - 1s 24ms/step - loss: 0.1388 - accuracy: 0.9462 - val_loss: 0.4413 - val_accuracy: 0.8995\n"
     ]
    }
   ],
   "source": [
    "model_2 = tf.keras.Sequential([\n",
    "    layers.Dense(1000, activation='relu', input_shape=(10,)),\n",
    "    layers.Dense(1000, activation='relu'),\n",
    "    layers.Dense(1000, activation='relu'),\n",
    "    layers.Dense(1000, activation='relu'),\n",
    "    layers.Dense(1, activation='sigmoid'),\n",
    "])\n",
    "model_2.compile(optimizer='adam',\n",
    "              loss='binary_crossentropy',\n",
    "              metrics=['accuracy'])\n",
    "hist_2 = model_2.fit(X_train, Y_train,\n",
    "          batch_size=32, epochs=100,\n",
    "          validation_data=(X_val, Y_val))"
   ]
  },
  {
   "cell_type": "markdown",
   "metadata": {},
   "source": [
    "Let's do the same visualization to see what overfitting looks like in terms of the loss and accuracy."
   ]
  },
  {
   "cell_type": "code",
   "execution_count": 27,
   "metadata": {
    "ExecuteTime": {
     "end_time": "2020-06-16T16:21:52.268743Z",
     "start_time": "2020-06-16T16:21:52.130719Z"
    }
   },
   "outputs": [
    {
     "data": {
      "image/png": "[encoded data removed]",
      "text/plain": [
       "<Figure size 432x288 with 1 Axes>"
      ]
     },
     "metadata": {
      "needs_background": "light"
     },
     "output_type": "display_data"
    }
   ],
   "source": [
    "plt.plot(hist_2.history['loss'])\n",
    "plt.plot(hist_2.history['val_loss'])\n",
    "plt.title('Model loss')\n",
    "plt.ylabel('Loss')\n",
    "plt.xlabel('Epoch')\n",
    "plt.legend(['Train', 'Val'], loc='upper right')\n",
    "plt.show()"
   ]
  },
  {
   "cell_type": "code",
   "execution_count": 28,
   "metadata": {
    "ExecuteTime": {
     "end_time": "2020-06-16T16:22:00.091660Z",
     "start_time": "2020-06-16T16:21:59.957852Z"
    }
   },
   "outputs": [
    {
     "data": {
      "image/png": "[encoded data removed]",
      "text/plain": [
       "<Figure size 432x288 with 1 Axes>"
      ]
     },
     "metadata": {
      "needs_background": "light"
     },
     "output_type": "display_data"
    }
   ],
   "source": [
    "plt.plot(hist_2.history['accuracy'])\n",
    "plt.plot(hist_2.history['val_accuracy'])\n",
    "plt.title('Model accuracy')\n",
    "plt.ylabel('Accuracy')\n",
    "plt.xlabel('Epoch')\n",
    "plt.legend(['Train', 'Val'], loc='lower right')\n",
    "plt.show()"
   ]
  },
  {
   "cell_type": "markdown",
   "metadata": {},
   "source": [
    "To address the overfitting we see in Model 2, we'll incorporate L2 regularization and dropout in our third model here (Model 3)."
   ]
  },
  {
   "cell_type": "code",
   "execution_count": 29,
   "metadata": {
    "ExecuteTime": {
     "end_time": "2020-06-16T16:24:40.720562Z",
     "start_time": "2020-06-16T16:24:40.613385Z"
    }
   },
   "outputs": [],
   "source": [
    "model_3 = tf.keras.Sequential([\n",
    "    layers.Dense(1000, activation='relu', kernel_regularizer=keras.regularizers.l2(0.01), input_shape=(10,)),\n",
    "    layers.Dropout(0.3),\n",
    "    layers.Dense(1000, activation='relu', kernel_regularizer=keras.regularizers.l2(0.01)),\n",
    "    layers.Dropout(0.3),\n",
    "    layers.Dense(1000, activation='relu', kernel_regularizer=keras.regularizers.l2(0.01)),\n",
    "    layers.Dropout(0.3),\n",
    "    layers.Dense(1000, activation='relu', kernel_regularizer=keras.regularizers.l2(0.01)),\n",
    "    layers.Dropout(0.3),\n",
    "    layers.Dense(1, activation='sigmoid', kernel_regularizer=keras.regularizers.l2(0.01)),\n",
    "])"
   ]
  },
  {
   "cell_type": "code",
   "execution_count": 30,
   "metadata": {
    "ExecuteTime": {
     "end_time": "2020-06-16T16:26:05.792672Z",
     "start_time": "2020-06-16T16:24:49.245098Z"
    },
    "scrolled": true
   },
   "outputs": [
    {
     "name": "stdout",
     "output_type": "stream",
     "text": [
      "Epoch 1/100\n",
      "32/32 [==============================] - 1s 36ms/step - loss: 14.2264 - accuracy: 0.6536 - val_loss: 3.9054 - val_accuracy: 0.7215\n",
      "Epoch 2/100\n",
      "32/32 [==============================] - 1s 32ms/step - loss: 1.6832 - accuracy: 0.8209 - val_loss: 0.6508 - val_accuracy: 0.8767\n",
      "Epoch 3/100\n",
      "32/32 [==============================] - 1s 32ms/step - loss: 0.5691 - accuracy: 0.8669 - val_loss: 0.5043 - val_accuracy: 0.8721\n",
      "Epoch 4/100\n",
      "32/32 [==============================] - 1s 32ms/step - loss: 0.5271 - accuracy: 0.8571 - val_loss: 0.4739 - val_accuracy: 0.9087\n",
      "Epoch 5/100\n",
      "32/32 [==============================] - 1s 33ms/step - loss: 0.5157 - accuracy: 0.8630 - val_loss: 0.4607 - val_accuracy: 0.9087\n",
      "Epoch 6/100\n",
      "32/32 [==============================] - 1s 33ms/step - loss: 0.5008 - accuracy: 0.8611 - val_loss: 0.4539 - val_accuracy: 0.9087\n",
      "Epoch 7/100\n",
      "32/32 [==============================] - 1s 32ms/step - loss: 0.4931 - accuracy: 0.8689 - val_loss: 0.4805 - val_accuracy: 0.8676\n",
      "Epoch 8/100\n",
      "32/32 [==============================] - 1s 32ms/step - loss: 0.4877 - accuracy: 0.8699 - val_loss: 0.4615 - val_accuracy: 0.8858\n",
      "Epoch 9/100\n",
      "32/32 [==============================] - 1s 32ms/step - loss: 0.4844 - accuracy: 0.8650 - val_loss: 0.4340 - val_accuracy: 0.9041\n",
      "Epoch 10/100\n",
      "32/32 [==============================] - 1s 32ms/step - loss: 0.4979 - accuracy: 0.8532 - val_loss: 0.4404 - val_accuracy: 0.9087\n",
      "Epoch 11/100\n",
      "32/32 [==============================] - 1s 32ms/step - loss: 0.4613 - accuracy: 0.8757 - val_loss: 0.5014 - val_accuracy: 0.8493\n",
      "Epoch 12/100\n",
      "32/32 [==============================] - 1s 32ms/step - loss: 0.4802 - accuracy: 0.8669 - val_loss: 0.4498 - val_accuracy: 0.8904\n",
      "Epoch 13/100\n",
      "32/32 [==============================] - 1s 34ms/step - loss: 0.4730 - accuracy: 0.8699 - val_loss: 0.4699 - val_accuracy: 0.8676\n",
      "Epoch 14/100\n",
      "32/32 [==============================] - 1s 32ms/step - loss: 0.4752 - accuracy: 0.8640 - val_loss: 0.4264 - val_accuracy: 0.9041\n",
      "Epoch 15/100\n",
      "32/32 [==============================] - 1s 34ms/step - loss: 0.4613 - accuracy: 0.8738 - val_loss: 0.4237 - val_accuracy: 0.9224\n",
      "Epoch 16/100\n",
      "32/32 [==============================] - 1s 32ms/step - loss: 0.4516 - accuracy: 0.8806 - val_loss: 0.4223 - val_accuracy: 0.9178\n",
      "Epoch 17/100\n",
      "32/32 [==============================] - 1s 32ms/step - loss: 0.4465 - accuracy: 0.8826 - val_loss: 0.4499 - val_accuracy: 0.8767\n",
      "Epoch 18/100\n",
      "32/32 [==============================] - 1s 33ms/step - loss: 0.4450 - accuracy: 0.8836 - val_loss: 0.4241 - val_accuracy: 0.9087\n",
      "Epoch 19/100\n",
      "32/32 [==============================] - 1s 32ms/step - loss: 0.4544 - accuracy: 0.8689 - val_loss: 0.4913 - val_accuracy: 0.8584\n",
      "Epoch 20/100\n",
      "32/32 [==============================] - 1s 32ms/step - loss: 0.4527 - accuracy: 0.8767 - val_loss: 0.4240 - val_accuracy: 0.9041\n",
      "Epoch 21/100\n",
      "32/32 [==============================] - 1s 32ms/step - loss: 0.4543 - accuracy: 0.8777 - val_loss: 0.4173 - val_accuracy: 0.9041\n",
      "Epoch 22/100\n",
      "32/32 [==============================] - 1s 33ms/step - loss: 0.4616 - accuracy: 0.8757 - val_loss: 0.4185 - val_accuracy: 0.9041\n",
      "Epoch 23/100\n",
      "32/32 [==============================] - 1s 33ms/step - loss: 0.5080 - accuracy: 0.8493 - val_loss: 0.4317 - val_accuracy: 0.8950\n",
      "Epoch 24/100\n",
      "32/32 [==============================] - 1s 32ms/step - loss: 0.4426 - accuracy: 0.8728 - val_loss: 0.4228 - val_accuracy: 0.9132\n",
      "Epoch 25/100\n",
      "32/32 [==============================] - 1s 32ms/step - loss: 0.4527 - accuracy: 0.8777 - val_loss: 0.4564 - val_accuracy: 0.8676\n",
      "Epoch 26/100\n",
      "32/32 [==============================] - 1s 32ms/step - loss: 0.4569 - accuracy: 0.8757 - val_loss: 0.4282 - val_accuracy: 0.8995\n",
      "Epoch 27/100\n",
      "32/32 [==============================] - 1s 32ms/step - loss: 0.4473 - accuracy: 0.8728 - val_loss: 0.4115 - val_accuracy: 0.9041\n",
      "Epoch 28/100\n",
      "32/32 [==============================] - 1s 33ms/step - loss: 0.4534 - accuracy: 0.8718 - val_loss: 0.4377 - val_accuracy: 0.8858\n",
      "Epoch 29/100\n",
      "32/32 [==============================] - 1s 35ms/step - loss: 0.4507 - accuracy: 0.8816 - val_loss: 0.4240 - val_accuracy: 0.9041\n",
      "Epoch 30/100\n",
      "32/32 [==============================] - 1s 32ms/step - loss: 0.4460 - accuracy: 0.8806 - val_loss: 0.4682 - val_accuracy: 0.8676\n",
      "Epoch 31/100\n",
      "32/32 [==============================] - 1s 32ms/step - loss: 0.4572 - accuracy: 0.8699 - val_loss: 0.4242 - val_accuracy: 0.8904\n",
      "Epoch 32/100\n",
      "32/32 [==============================] - 1s 33ms/step - loss: 0.4435 - accuracy: 0.8748 - val_loss: 0.4176 - val_accuracy: 0.8995\n",
      "Epoch 33/100\n",
      "32/32 [==============================] - ETA: 0s - loss: 0.4464 - accuracy: 0.87 - 1s 32ms/step - loss: 0.4461 - accuracy: 0.8767 - val_loss: 0.4122 - val_accuracy: 0.9087\n",
      "Epoch 34/100\n",
      "32/32 [==============================] - 1s 32ms/step - loss: 0.4523 - accuracy: 0.8787 - val_loss: 0.4120 - val_accuracy: 0.9041\n",
      "Epoch 35/100\n",
      "32/32 [==============================] - 1s 33ms/step - loss: 0.4519 - accuracy: 0.8767 - val_loss: 0.4235 - val_accuracy: 0.9178\n",
      "Epoch 36/100\n",
      "32/32 [==============================] - 1s 32ms/step - loss: 0.4479 - accuracy: 0.8650 - val_loss: 0.4240 - val_accuracy: 0.8950\n",
      "Epoch 37/100\n",
      "32/32 [==============================] - 1s 33ms/step - loss: 0.4487 - accuracy: 0.8728 - val_loss: 0.4221 - val_accuracy: 0.9178\n",
      "Epoch 38/100\n",
      "32/32 [==============================] - 1s 32ms/step - loss: 0.4473 - accuracy: 0.8816 - val_loss: 0.4137 - val_accuracy: 0.9178\n",
      "Epoch 39/100\n",
      "32/32 [==============================] - 1s 33ms/step - loss: 0.4427 - accuracy: 0.8777 - val_loss: 0.4126 - val_accuracy: 0.9087\n",
      "Epoch 40/100\n",
      "32/32 [==============================] - 1s 33ms/step - loss: 0.4398 - accuracy: 0.8885 - val_loss: 0.4102 - val_accuracy: 0.9087\n",
      "Epoch 41/100\n",
      "32/32 [==============================] - 1s 33ms/step - loss: 0.4568 - accuracy: 0.8679 - val_loss: 0.4140 - val_accuracy: 0.9041\n",
      "Epoch 42/100\n",
      "32/32 [==============================] - 1s 32ms/step - loss: 0.4615 - accuracy: 0.8708 - val_loss: 0.4102 - val_accuracy: 0.9041\n",
      "Epoch 43/100\n",
      "32/32 [==============================] - 1s 33ms/step - loss: 0.4539 - accuracy: 0.8708 - val_loss: 0.4225 - val_accuracy: 0.9041\n",
      "Epoch 44/100\n",
      "32/32 [==============================] - 1s 32ms/step - loss: 0.4383 - accuracy: 0.8845 - val_loss: 0.4078 - val_accuracy: 0.9041\n",
      "Epoch 45/100\n",
      "32/32 [==============================] - 1s 33ms/step - loss: 0.4440 - accuracy: 0.8806 - val_loss: 0.4306 - val_accuracy: 0.8995\n",
      "Epoch 46/100\n",
      "32/32 [==============================] - 1s 33ms/step - loss: 0.4327 - accuracy: 0.8826 - val_loss: 0.4086 - val_accuracy: 0.9041\n",
      "Epoch 47/100\n",
      "32/32 [==============================] - 1s 33ms/step - loss: 0.4524 - accuracy: 0.8620 - val_loss: 0.4098 - val_accuracy: 0.9041\n",
      "Epoch 48/100\n",
      "32/32 [==============================] - 1s 33ms/step - loss: 0.4479 - accuracy: 0.8748 - val_loss: 0.4083 - val_accuracy: 0.9041\n",
      "Epoch 49/100\n",
      "32/32 [==============================] - 1s 33ms/step - loss: 0.4462 - accuracy: 0.8757 - val_loss: 0.4411 - val_accuracy: 0.8858\n",
      "Epoch 50/100\n",
      "32/32 [==============================] - 1s 32ms/step - loss: 0.4686 - accuracy: 0.8620 - val_loss: 0.4386 - val_accuracy: 0.8858\n",
      "Epoch 51/100\n",
      "32/32 [==============================] - 1s 33ms/step - loss: 0.4381 - accuracy: 0.8748 - val_loss: 0.4105 - val_accuracy: 0.9041\n",
      "Epoch 52/100\n",
      "32/32 [==============================] - 1s 33ms/step - loss: 0.4549 - accuracy: 0.8728 - val_loss: 0.4101 - val_accuracy: 0.9087\n",
      "Epoch 53/100\n",
      "32/32 [==============================] - 1s 32ms/step - loss: 0.4410 - accuracy: 0.8689 - val_loss: 0.4680 - val_accuracy: 0.8676\n",
      "Epoch 54/100\n",
      "32/32 [==============================] - 1s 33ms/step - loss: 0.4722 - accuracy: 0.8777 - val_loss: 0.4261 - val_accuracy: 0.8858\n",
      "Epoch 55/100\n",
      "32/32 [==============================] - 1s 33ms/step - loss: 0.4409 - accuracy: 0.8748 - val_loss: 0.4191 - val_accuracy: 0.8995\n",
      "Epoch 56/100\n",
      "32/32 [==============================] - 1s 36ms/step - loss: 0.4451 - accuracy: 0.8738 - val_loss: 0.4167 - val_accuracy: 0.9132\n",
      "Epoch 57/100\n",
      "32/32 [==============================] - 1s 34ms/step - loss: 0.4378 - accuracy: 0.8787 - val_loss: 0.4334 - val_accuracy: 0.8950\n",
      "Epoch 58/100\n"
     ]
    },
    {
     "name": "stdout",
     "output_type": "stream",
     "text": [
      "32/32 [==============================] - 1s 33ms/step - loss: 0.4603 - accuracy: 0.8601 - val_loss: 0.4188 - val_accuracy: 0.9178\n",
      "Epoch 59/100\n",
      "32/32 [==============================] - 1s 34ms/step - loss: 0.4298 - accuracy: 0.8845 - val_loss: 0.4790 - val_accuracy: 0.8539\n",
      "Epoch 60/100\n",
      "32/32 [==============================] - 1s 33ms/step - loss: 0.4504 - accuracy: 0.8718 - val_loss: 0.4117 - val_accuracy: 0.9132\n",
      "Epoch 61/100\n",
      "32/32 [==============================] - 1s 32ms/step - loss: 0.4832 - accuracy: 0.8474 - val_loss: 0.4282 - val_accuracy: 0.8950\n",
      "Epoch 62/100\n",
      "32/32 [==============================] - 1s 32ms/step - loss: 0.4492 - accuracy: 0.8787 - val_loss: 0.4111 - val_accuracy: 0.9041\n",
      "Epoch 63/100\n",
      "32/32 [==============================] - 1s 32ms/step - loss: 0.4479 - accuracy: 0.8738 - val_loss: 0.4101 - val_accuracy: 0.9087\n",
      "Epoch 64/100\n",
      "32/32 [==============================] - 1s 33ms/step - loss: 0.4329 - accuracy: 0.8865 - val_loss: 0.4282 - val_accuracy: 0.8950\n",
      "Epoch 65/100\n",
      "32/32 [==============================] - 1s 32ms/step - loss: 0.4580 - accuracy: 0.8748 - val_loss: 0.4244 - val_accuracy: 0.8950\n",
      "Epoch 66/100\n",
      "32/32 [==============================] - 1s 32ms/step - loss: 0.4815 - accuracy: 0.8708 - val_loss: 0.4188 - val_accuracy: 0.9087\n",
      "Epoch 67/100\n",
      "32/32 [==============================] - 1s 32ms/step - loss: 0.4310 - accuracy: 0.8933 - val_loss: 0.4215 - val_accuracy: 0.9041\n",
      "Epoch 68/100\n",
      "32/32 [==============================] - 1s 33ms/step - loss: 0.4520 - accuracy: 0.8748 - val_loss: 0.4428 - val_accuracy: 0.8813\n",
      "Epoch 69/100\n",
      "32/32 [==============================] - 1s 33ms/step - loss: 0.4661 - accuracy: 0.8708 - val_loss: 0.4198 - val_accuracy: 0.9041\n",
      "Epoch 70/100\n",
      "32/32 [==============================] - 1s 32ms/step - loss: 0.4333 - accuracy: 0.8865 - val_loss: 0.4348 - val_accuracy: 0.8858\n",
      "Epoch 71/100\n",
      "32/32 [==============================] - 1s 32ms/step - loss: 0.4420 - accuracy: 0.8748 - val_loss: 0.4264 - val_accuracy: 0.8995\n",
      "Epoch 72/100\n",
      "32/32 [==============================] - 1s 33ms/step - loss: 0.4464 - accuracy: 0.8836 - val_loss: 0.4111 - val_accuracy: 0.9041\n",
      "Epoch 73/100\n",
      "32/32 [==============================] - 1s 32ms/step - loss: 0.4313 - accuracy: 0.8845 - val_loss: 0.4096 - val_accuracy: 0.9132\n",
      "Epoch 74/100\n",
      "32/32 [==============================] - 1s 32ms/step - loss: 0.4409 - accuracy: 0.8669 - val_loss: 0.4121 - val_accuracy: 0.9224\n",
      "Epoch 75/100\n",
      "32/32 [==============================] - 1s 33ms/step - loss: 0.4325 - accuracy: 0.8875 - val_loss: 0.4112 - val_accuracy: 0.8950\n",
      "Epoch 76/100\n",
      "32/32 [==============================] - 1s 32ms/step - loss: 0.4374 - accuracy: 0.8865 - val_loss: 0.4158 - val_accuracy: 0.8904\n",
      "Epoch 77/100\n",
      "32/32 [==============================] - 1s 32ms/step - loss: 0.4314 - accuracy: 0.8787 - val_loss: 0.4195 - val_accuracy: 0.9087\n",
      "Epoch 78/100\n",
      "32/32 [==============================] - 1s 32ms/step - loss: 0.4677 - accuracy: 0.8552 - val_loss: 0.4303 - val_accuracy: 0.8950s - loss: 0.4773 - \n",
      "Epoch 79/100\n",
      "32/32 [==============================] - 1s 32ms/step - loss: 0.4399 - accuracy: 0.8845 - val_loss: 0.4156 - val_accuracy: 0.8950\n",
      "Epoch 80/100\n",
      "32/32 [==============================] - 1s 32ms/step - loss: 0.4476 - accuracy: 0.8836 - val_loss: 0.4128 - val_accuracy: 0.9041\n",
      "Epoch 81/100\n",
      "32/32 [==============================] - 1s 33ms/step - loss: 0.4445 - accuracy: 0.8816 - val_loss: 0.4365 - val_accuracy: 0.8858\n",
      "Epoch 82/100\n",
      "32/32 [==============================] - 1s 32ms/step - loss: 0.4303 - accuracy: 0.8885 - val_loss: 0.4290 - val_accuracy: 0.8950\n",
      "Epoch 83/100\n",
      "32/32 [==============================] - 1s 32ms/step - loss: 0.4449 - accuracy: 0.8855 - val_loss: 0.5011 - val_accuracy: 0.8584\n",
      "Epoch 84/100\n",
      "32/32 [==============================] - 1s 32ms/step - loss: 0.4491 - accuracy: 0.8699 - val_loss: 0.4255 - val_accuracy: 0.8950\n",
      "Epoch 85/100\n",
      "32/32 [==============================] - 1s 32ms/step - loss: 0.4397 - accuracy: 0.8787 - val_loss: 0.4089 - val_accuracy: 0.9178\n",
      "Epoch 86/100\n",
      "32/32 [==============================] - 1s 32ms/step - loss: 0.4325 - accuracy: 0.8894 - val_loss: 0.4221 - val_accuracy: 0.8950\n",
      "Epoch 87/100\n",
      "32/32 [==============================] - 1s 32ms/step - loss: 0.4407 - accuracy: 0.8748 - val_loss: 0.4203 - val_accuracy: 0.9178\n",
      "Epoch 88/100\n",
      "32/32 [==============================] - 1s 32ms/step - loss: 0.4398 - accuracy: 0.8865 - val_loss: 0.4163 - val_accuracy: 0.8904\n",
      "Epoch 89/100\n",
      "32/32 [==============================] - 1s 32ms/step - loss: 0.4629 - accuracy: 0.8767 - val_loss: 0.4343 - val_accuracy: 0.8858\n",
      "Epoch 90/100\n",
      "32/32 [==============================] - 1s 32ms/step - loss: 0.4375 - accuracy: 0.8796 - val_loss: 0.4175 - val_accuracy: 0.9132\n",
      "Epoch 91/100\n",
      "32/32 [==============================] - 1s 32ms/step - loss: 0.4324 - accuracy: 0.8826 - val_loss: 0.4146 - val_accuracy: 0.9087\n",
      "Epoch 92/100\n",
      "32/32 [==============================] - 1s 32ms/step - loss: 0.4399 - accuracy: 0.8767 - val_loss: 0.4452 - val_accuracy: 0.8813\n",
      "Epoch 93/100\n",
      "32/32 [==============================] - 1s 33ms/step - loss: 0.4470 - accuracy: 0.8699 - val_loss: 0.4138 - val_accuracy: 0.9132\n",
      "Epoch 94/100\n",
      "32/32 [==============================] - 1s 33ms/step - loss: 0.4379 - accuracy: 0.8816 - val_loss: 0.4070 - val_accuracy: 0.9041\n",
      "Epoch 95/100\n",
      "32/32 [==============================] - 1s 32ms/step - loss: 0.4431 - accuracy: 0.8718 - val_loss: 0.4215 - val_accuracy: 0.8950\n",
      "Epoch 96/100\n",
      "32/32 [==============================] - 1s 32ms/step - loss: 0.4316 - accuracy: 0.8855 - val_loss: 0.4095 - val_accuracy: 0.9132\n",
      "Epoch 97/100\n",
      "32/32 [==============================] - 1s 33ms/step - loss: 0.4522 - accuracy: 0.8650 - val_loss: 0.4168 - val_accuracy: 0.9178\n",
      "Epoch 98/100\n",
      "32/32 [==============================] - 1s 33ms/step - loss: 0.4425 - accuracy: 0.8796 - val_loss: 0.4187 - val_accuracy: 0.9041\n",
      "Epoch 99/100\n",
      "32/32 [==============================] - 1s 32ms/step - loss: 0.4503 - accuracy: 0.8826 - val_loss: 0.4249 - val_accuracy: 0.8904\n",
      "Epoch 100/100\n",
      "32/32 [==============================] - 1s 32ms/step - loss: 0.4353 - accuracy: 0.8816 - val_loss: 0.4370 - val_accuracy: 0.8858\n"
     ]
    }
   ],
   "source": [
    "model_3.compile(optimizer='adam',\n",
    "              loss='binary_crossentropy',\n",
    "              metrics=['accuracy'])\n",
    "hist_3 = model_3.fit(X_train, Y_train,\n",
    "          batch_size=32, epochs=100,\n",
    "          validation_data=(X_val, Y_val))"
   ]
  },
  {
   "cell_type": "markdown",
   "metadata": {},
   "source": [
    "We'll now plot the loss and accuracy graphs for Model 3. You'll notice that the loss is a lot higher at the start, and that's because we've changed our loss function. To plot such that the window is zoomed in between 0 and 1.2 for the loss, we add an additional line of code (plt.ylim) when plotting"
   ]
  },
  {
   "cell_type": "code",
   "execution_count": 31,
   "metadata": {
    "ExecuteTime": {
     "end_time": "2020-06-16T16:26:05.949596Z",
     "start_time": "2020-06-16T16:26:05.825300Z"
    }
   },
   "outputs": [
    {
     "data": {
      "image/png": "[encoded data removed]",
      "text/plain": [
       "<Figure size 432x288 with 1 Axes>"
      ]
     },
     "metadata": {
      "needs_background": "light"
     },
     "output_type": "display_data"
    }
   ],
   "source": [
    "plt.plot(hist_3.history['loss'])\n",
    "plt.plot(hist_3.history['val_loss'])\n",
    "plt.title('Model loss')\n",
    "plt.ylabel('Loss')\n",
    "plt.xlabel('Epoch')\n",
    "plt.legend(['Train', 'Val'], loc='upper right')\n",
    "plt.ylim(top=1.2, bottom=0)\n",
    "plt.show()"
   ]
  },
  {
   "cell_type": "code",
   "execution_count": 32,
   "metadata": {
    "ExecuteTime": {
     "end_time": "2020-06-16T16:26:06.115636Z",
     "start_time": "2020-06-16T16:26:05.975704Z"
    }
   },
   "outputs": [
    {
     "data": {
      "image/png": "[encoded data removed]",
      "text/plain": [
       "<Figure size 432x288 with 1 Axes>"
      ]
     },
     "metadata": {
      "needs_background": "light"
     },
     "output_type": "display_data"
    }
   ],
   "source": [
    "plt.plot(hist_3.history['accuracy'])\n",
    "plt.plot(hist_3.history['val_accuracy'])\n",
    "plt.title('Model accuracy')\n",
    "plt.ylabel('Accuracy')\n",
    "plt.xlabel('Epoch')\n",
    "plt.legend(['Train', 'Val'], loc='lower right')\n",
    "plt.show()"
   ]
  },
  {
   "cell_type": "markdown",
   "metadata": {},
   "source": [
    "As compared to Model 2, you should see that there's less overfitting!"
   ]
  }
 ],
 "metadata": {
  "kernelspec": {
   "display_name": "Python 3",
   "language": "python",
   "name": "python3"
  },
  "language_info": {
   "codemirror_mode": {
    "name": "ipython",
    "version": 3
   },
   "file_extension": ".py",
   "mimetype": "text/x-python",
   "name": "python",
   "nbconvert_exporter": "python",
   "pygments_lexer": "ipython3",
   "version": "3.7.6"
  },
  "toc": {
   "base_numbering": 1,
   "nav_menu": {},
   "number_sections": true,
   "sideBar": true,
   "skip_h1_title": false,
   "title_cell": "Table of Contents",
   "title_sidebar": "Contents",
   "toc_cell": false,
   "toc_position": {},
   "toc_section_display": true,
   "toc_window_display": true
  },
  "varInspector": {
   "cols": {
    "lenName": 16,
    "lenType": 16,
    "lenVar": 40
   },
   "kernels_config": {
    "python": {
     "delete_cmd_postfix": "",
     "delete_cmd_prefix": "del ",
     "library": "var_list.py",
     "varRefreshCmd": "print(var_dic_list())"
    },
    "r": {
     "delete_cmd_postfix": ") ",
     "delete_cmd_prefix": "rm(",
     "library": "var_list.r",
     "varRefreshCmd": "cat(var_dic_list()) "
    }
   },
   "types_to_exclude": [
    "module",
    "function",
    "builtin_function_or_method",
    "instance",
    "_Feature"
   ],
   "window_display": false
  }
 },
 "nbformat": 4,
 "nbformat_minor": 2
}
  
